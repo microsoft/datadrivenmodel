{
 "cells": [
  {
   "cell_type": "markdown",
   "id": "irish-antibody",
   "metadata": {},
   "source": [
    "# DDM: FEATURE IMPORTANCE"
   ]
  },
  {
   "cell_type": "markdown",
   "id": "renewable-disorder",
   "metadata": {},
   "source": [
    "# 1. Dataset Definition"
   ]
  },
  {
   "cell_type": "code",
   "execution_count": 1,
   "id": "congressional-screw",
   "metadata": {},
   "outputs": [],
   "source": [
    "import yaml\n",
    "\n",
    "# SELECT CONFIG FILE TO READ DATA FROM\n",
    "config_file = \"conf//data//cartpole_st_at.yaml\""
   ]
  },
  {
   "cell_type": "code",
   "execution_count": 2,
   "id": "partial-insertion",
   "metadata": {},
   "outputs": [
    {
     "name": "stdout",
     "output_type": "stream",
     "text": [
      "DATA STRUCTURE SELECTED:\n",
      " - input_cols: ['state_x_position', 'state_x_velocity', 'state_angle_position', 'state_angle_velocity']\n",
      " - augmented_cols: ['config_length', 'config_masspole', 'action_command']\n",
      " - output_cols: ['state_x_position', 'state_x_velocity', 'state_angle_position', 'state_angle_velocity']\n"
     ]
    }
   ],
   "source": [
    "# For quick prototyping we will test on the fitted model. If model is not even good, then we need to reiterate\n",
    "##from sklearn.model_selection import train_test_split\n",
    "##x_train, x_test, y_train, y_test = train_test_split(x_set, y_set, test_size=0.33, random_state=42)\n",
    "\n",
    "# Open and extract sim config from YAML file\n",
    "with open(config_file, 'r') as file:\n",
    "    data_config = yaml.load(file, Loader=yaml.FullLoader)\n",
    "\n",
    "# Extract features from yaml file\n",
    "input_cols = data_config['data']['inputs']\n",
    "output_cols = data_config['data']['outputs']\n",
    "augmented_cols = data_config['data']['augmented_cols']\n",
    "dataset_path = data_config['data']['path']\n",
    "iteration_order = data_config['data']['iteration_order']\n",
    "episode_col = data_config['data']['episode_col']\n",
    "iteration_col = data_config['data']['iteration_col']\n",
    "max_rows = data_config['data']['max_rows']\n",
    "\n",
    "\n",
    "config_file = \"conf//model//xgboost.yaml\"\n",
    "# Open and extract sim config from YAML file\n",
    "with open(config_file, 'r') as file:\n",
    "    model_config = yaml.load(file, Loader=yaml.FullLoader)\n",
    "\n",
    "print(\"DATA STRUCTURE SELECTED:\")\n",
    "print(\" - input_cols:\", input_cols)\n",
    "print(\" - augmented_cols:\", augmented_cols)\n",
    "print(\" - output_cols:\", output_cols)"
   ]
  },
  {
   "cell_type": "markdown",
   "id": "usual-relation",
   "metadata": {},
   "source": [
    "# 2. Model Definition"
   ]
  },
  {
   "cell_type": "code",
   "execution_count": 3,
   "id": "hydraulic-albany",
   "metadata": {},
   "outputs": [],
   "source": [
    "import gboost_models\n",
    "import skmodels\n",
    "\n",
    "GBoostModel = gboost_models.GBoostModel\n",
    "SKModel = skmodels.SKModel\n",
    "\n",
    "# SELECT MODEL TO BE USED\n",
    "model_to_be_used = 3"
   ]
  },
  {
   "cell_type": "code",
   "execution_count": 4,
   "id": "canadian-supplement",
   "metadata": {},
   "outputs": [
    {
     "name": "stdout",
     "output_type": "stream",
     "text": [
      "Model selected 'SVR' --> scale_data == False\n"
     ]
    }
   ],
   "source": [
    "if model_to_be_used == 1:\n",
    "    # XGBOOST\n",
    "    save_path = \"models/boost/moab/xgboost_model\"\n",
    "    model_name = \"xgboost\"\n",
    "    scale_data = False\n",
    "    print(f\"Model selected '{model_name}' --> scale_data == {scale_data}\")\n",
    "\n",
    "    model = GBoostModel()\n",
    "    \n",
    "elif model_to_be_used == 2:\n",
    "    # LIGHTGBM\n",
    "    save_path = \"models/boost/moab/lightgbm\"\n",
    "    model_name = \"lightgbm\"\n",
    "    scale_data = False\n",
    "    print(f\"Model selected '{model_name}' --> scale_data == {scale_data}\")\n",
    "\n",
    "    model = GBoostModel()\n",
    "    \n",
    "elif model_to_be_used == 3:\n",
    "    # SVR\n",
    "    save_path = \"models/sklearn/moab/SVR\"\n",
    "    model_name = \"SVR\"\n",
    "    scale_data = False\n",
    "    print(f\"Model selected '{model_name}' --> scale_data == {scale_data}\")\n",
    "\n",
    "    model = SKModel()\n",
    "    \n",
    "elif model_to_be_used == 4:\n",
    "    # GRADIENT BOOSTING\n",
    "    save_path = \"models/sklearn/moab/GradientBoostingRegressor\"\n",
    "    model_name = \"GradientBoostingRegressor\"\n",
    "    scale_data = False\n",
    "    print(f\"Model selected '{model_name}' --> scale_data == {scale_data}\")\n",
    "\n",
    "    model = SKModel()\n",
    "    \n",
    "elif model_to_be_used == 5:\n",
    "    # LINEAR MODEL\n",
    "    save_path = \"models/sklearn/moab/linear_model\"\n",
    "    model_name = \"linear_model\"\n",
    "    scale_data = True\n",
    "    print(f\"Model selected '{model_name}' --> scale_data == {scale_data}\")\n",
    "\n",
    "    model = SKModel()\n"
   ]
  },
  {
   "cell_type": "markdown",
   "id": "circular-navigation",
   "metadata": {},
   "source": [
    "# 3. Model Definition, Fitting, & Saving"
   ]
  },
  {
   "cell_type": "code",
   "execution_count": 5,
   "id": "analyzed-prospect",
   "metadata": {},
   "outputs": [
    {
     "name": "stderr",
     "output_type": "stream",
     "text": [
      "INFO:data_loaders:Iteration order set to 1 so using outputs from next 1 row\n",
      "INFO:data_loaders:Next states are being added to same row with prefix next\n",
      "INFO:data_loaders:Feature columns are: ['next_state_x_position', 'next_state_x_velocity', 'next_state_angle_position', 'next_state_angle_velocity', 'next_config_length', 'next_config_masspole', 'next_action_command']\n",
      "INFO:data_loaders:Label columns are: ['state_x_position', 'state_x_velocity', 'state_angle_position', 'state_angle_velocity']\n",
      "INFO:skmodels:Note: fit_separate should be True for SVR. Changing to True ..\n",
      "INFO:skmodels:Fitting model 1 of 4\n",
      "INFO:skmodels:Fitting model 2 of 4\n",
      "INFO:skmodels:Fitting model 3 of 4\n",
      "INFO:skmodels:Fitting model 4 of 4\n"
     ]
    }
   ],
   "source": [
    "\n",
    "X, y = model.load_csv(\n",
    "    input_cols=input_cols,\n",
    "    output_cols=output_cols,\n",
    "    augm_cols=augmented_cols,\n",
    "    dataset_path=dataset_path,\n",
    "    iteration_order=iteration_order,\n",
    "    episode_col=episode_col,\n",
    "    iteration_col=iteration_col,\n",
    "    max_rows=max_rows,\n",
    ")\n",
    "#logger.info(\"Building model...\")\n",
    "model.build_model(model_type=model_name, scale_data=scale_data)\n",
    "#logger.info(\"Fitting model...\")\n",
    "model.fit(X, y, fit_separate=False)\n",
    "\n",
    "#logger.info(f\"Saving model to {save_path}\")\n",
    "model.save_model(filename=save_path)\n"
   ]
  },
  {
   "cell_type": "code",
   "execution_count": 6,
   "id": "republican-wound",
   "metadata": {},
   "outputs": [
    {
     "name": "stdout",
     "output_type": "stream",
     "text": [
      "DATA STRUCTURE FROM UPLOADED MODEL:\n",
      " - input_cols: ['state_x_position', 'state_x_velocity', 'state_angle_position', 'state_angle_velocity', 'config_length', 'config_masspole', 'action_command']\n",
      " - output_cols: ['state_x_position', 'state_x_velocity', 'state_angle_position', 'state_angle_velocity']\n"
     ]
    }
   ],
   "source": [
    "print(\"DATA STRUCTURE FROM UPLOADED MODEL:\")\n",
    "print(\" - input_cols:\", model.features)\n",
    "print(\" - output_cols:\", model.labels)"
   ]
  },
  {
   "cell_type": "markdown",
   "id": "imported-concentrate",
   "metadata": {},
   "source": [
    "# 4. Feature Importance"
   ]
  },
  {
   "cell_type": "code",
   "execution_count": 8,
   "id": "everyday-attack",
   "metadata": {},
   "outputs": [
    {
     "data": {
      "image/png": "[encoded data removed]",
      "text/plain": [
       "<Figure size 576x504 with 1 Axes>"
      ]
     },
     "metadata": {
      "needs_background": "light"
     },
     "output_type": "display_data"
    }
   ],
   "source": [
    "# Note, \"get_feat_importance\" method is very slow. Can take up to ~6mins per 200 rows\n",
    "# - Library used, LIME, uses local fitting to find key features behind each prediction (~2secs/pred) -\n",
    "feat_importance = model.get_feat_importance(X, num_times = 200)\n",
    "model.plot_feature_importance(feat_importance)"
   ]
  },
  {
   "cell_type": "code",
   "execution_count": null,
   "id": "reduced-freeware",
   "metadata": {},
   "outputs": [],
   "source": []
  },
  {
   "cell_type": "code",
   "execution_count": null,
   "id": "logical-campaign",
   "metadata": {},
   "outputs": [],
   "source": []
  },
  {
   "cell_type": "code",
   "execution_count": null,
   "id": "narrow-third",
   "metadata": {},
   "outputs": [],
   "source": []
  }
 ],
 "metadata": {
  "kernelspec": {
   "display_name": "Python 3",
   "language": "python",
   "name": "python3"
  },
  "language_info": {
   "codemirror_mode": {
    "name": "ipython",
    "version": 3
   },
   "file_extension": ".py",
   "mimetype": "text/x-python",
   "name": "python",
   "nbconvert_exporter": "python",
   "pygments_lexer": "ipython3",
   "version": "3.7.7"
  }
 },
 "nbformat": 4,
 "nbformat_minor": 5
}
