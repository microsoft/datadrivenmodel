{
 "cells": [
  {
   "cell_type": "code",
   "execution_count": 1,
   "id": "53ee52ce",
   "metadata": {},
   "outputs": [],
   "source": [
    "import numpy as np\n",
    "import pandas as pd\n",
    "import matplotlib.pyplot as plt"
   ]
  },
  {
   "cell_type": "code",
   "execution_count": 2,
   "id": "7956cc86",
   "metadata": {},
   "outputs": [],
   "source": [
    "# path1 = r\"C:\\Users\\sun9k\\datadrivenmodel\\outputs\\2021-07-20\\16-38-59\\logs\\2021-07-20-16-39-00_SIMDATA_log.csv\"\n",
    "# path2 = r\"C:\\Users\\sun9k\\datadrivenmodel\\outputs\\2021-07-20\\16-38-59\\logs\\2021-07-20-16-39-00_DDM_log.csv\"\n",
    "path1 = r\"C:\\Users\\sun9k\\datadrivenmodel\\outputs\\2021-07-20\\19-25-12\\logs\\2021-07-20-19-25-12_DDM_log.csv\"\n",
    "path2 = r\"C:\\Users\\sun9k\\datadrivenmodel\\outputs\\2021-07-20\\19-25-12\\logs\\2021-07-20-19-25-12_SIMDATA_log.csv\"\n",
    "df = pd.read_csv(path2)\n",
    "df_ddm = pd.read_csv(path1)"
   ]
  },
  {
   "cell_type": "code",
   "execution_count": 3,
   "id": "f96dd4ea",
   "metadata": {
    "scrolled": true
   },
   "outputs": [
    {
     "data": {
      "text/html": [
       "<div>\n",
       "<style scoped>\n",
       "    .dataframe tbody tr th:only-of-type {\n",
       "        vertical-align: middle;\n",
       "    }\n",
       "\n",
       "    .dataframe tbody tr th {\n",
       "        vertical-align: top;\n",
       "    }\n",
       "\n",
       "    .dataframe thead th {\n",
       "        text-align: right;\n",
       "    }\n",
       "</style>\n",
       "<table border=\"1\" class=\"dataframe\">\n",
       "  <thead>\n",
       "    <tr style=\"text-align: right;\">\n",
       "      <th></th>\n",
       "      <th>state_ball_x</th>\n",
       "      <th>state_ball_y</th>\n",
       "      <th>state_ball_vel_x</th>\n",
       "      <th>state_ball_vel_y</th>\n",
       "      <th>action_input_roll</th>\n",
       "      <th>action_input_pitch</th>\n",
       "      <th>episode</th>\n",
       "      <th>iteration</th>\n",
       "    </tr>\n",
       "  </thead>\n",
       "  <tbody>\n",
       "    <tr>\n",
       "      <th>0</th>\n",
       "      <td>0.000614</td>\n",
       "      <td>0.000775</td>\n",
       "      <td>-0.009536</td>\n",
       "      <td>0.001619</td>\n",
       "      <td>-0.083582</td>\n",
       "      <td>-0.055916</td>\n",
       "      <td>0</td>\n",
       "      <td>0</td>\n",
       "    </tr>\n",
       "    <tr>\n",
       "      <th>1</th>\n",
       "      <td>0.000069</td>\n",
       "      <td>0.000945</td>\n",
       "      <td>-0.015283</td>\n",
       "      <td>0.006147</td>\n",
       "      <td>-0.053580</td>\n",
       "      <td>-0.084000</td>\n",
       "      <td>0</td>\n",
       "      <td>1</td>\n",
       "    </tr>\n",
       "    <tr>\n",
       "      <th>2</th>\n",
       "      <td>-0.000831</td>\n",
       "      <td>0.001327</td>\n",
       "      <td>-0.024592</td>\n",
       "      <td>0.010802</td>\n",
       "      <td>0.090582</td>\n",
       "      <td>0.042638</td>\n",
       "      <td>0</td>\n",
       "      <td>2</td>\n",
       "    </tr>\n",
       "    <tr>\n",
       "      <th>3</th>\n",
       "      <td>-0.002135</td>\n",
       "      <td>0.001913</td>\n",
       "      <td>-0.033808</td>\n",
       "      <td>0.015410</td>\n",
       "      <td>-0.055075</td>\n",
       "      <td>-0.031310</td>\n",
       "      <td>0</td>\n",
       "      <td>3</td>\n",
       "    </tr>\n",
       "    <tr>\n",
       "      <th>4</th>\n",
       "      <td>-0.003896</td>\n",
       "      <td>0.002725</td>\n",
       "      <td>-0.043236</td>\n",
       "      <td>0.020124</td>\n",
       "      <td>-0.070852</td>\n",
       "      <td>0.016007</td>\n",
       "      <td>0</td>\n",
       "      <td>4</td>\n",
       "    </tr>\n",
       "    <tr>\n",
       "      <th>...</th>\n",
       "      <td>...</td>\n",
       "      <td>...</td>\n",
       "      <td>...</td>\n",
       "      <td>...</td>\n",
       "      <td>...</td>\n",
       "      <td>...</td>\n",
       "      <td>...</td>\n",
       "      <td>...</td>\n",
       "    </tr>\n",
       "    <tr>\n",
       "      <th>237</th>\n",
       "      <td>-0.079515</td>\n",
       "      <td>0.039266</td>\n",
       "      <td>-0.181879</td>\n",
       "      <td>0.089121</td>\n",
       "      <td>0.085312</td>\n",
       "      <td>-0.027656</td>\n",
       "      <td>9</td>\n",
       "      <td>19</td>\n",
       "    </tr>\n",
       "    <tr>\n",
       "      <th>238</th>\n",
       "      <td>-0.088603</td>\n",
       "      <td>0.043722</td>\n",
       "      <td>-0.191910</td>\n",
       "      <td>0.094137</td>\n",
       "      <td>-0.085984</td>\n",
       "      <td>-0.007121</td>\n",
       "      <td>9</td>\n",
       "      <td>20</td>\n",
       "    </tr>\n",
       "    <tr>\n",
       "      <th>239</th>\n",
       "      <td>-0.097411</td>\n",
       "      <td>0.048044</td>\n",
       "      <td>-0.201155</td>\n",
       "      <td>0.098759</td>\n",
       "      <td>-0.050592</td>\n",
       "      <td>0.042282</td>\n",
       "      <td>9</td>\n",
       "      <td>21</td>\n",
       "    </tr>\n",
       "    <tr>\n",
       "      <th>240</th>\n",
       "      <td>-0.108148</td>\n",
       "      <td>0.053318</td>\n",
       "      <td>-0.211879</td>\n",
       "      <td>0.104122</td>\n",
       "      <td>-0.037530</td>\n",
       "      <td>-0.017444</td>\n",
       "      <td>9</td>\n",
       "      <td>22</td>\n",
       "    </tr>\n",
       "    <tr>\n",
       "      <th>241</th>\n",
       "      <td>-0.118996</td>\n",
       "      <td>0.058651</td>\n",
       "      <td>-0.222189</td>\n",
       "      <td>0.109277</td>\n",
       "      <td>-0.085328</td>\n",
       "      <td>-0.062818</td>\n",
       "      <td>9</td>\n",
       "      <td>23</td>\n",
       "    </tr>\n",
       "  </tbody>\n",
       "</table>\n",
       "<p>242 rows × 8 columns</p>\n",
       "</div>"
      ],
      "text/plain": [
       "     state_ball_x  state_ball_y  state_ball_vel_x  state_ball_vel_y  \\\n",
       "0        0.000614      0.000775         -0.009536          0.001619   \n",
       "1        0.000069      0.000945         -0.015283          0.006147   \n",
       "2       -0.000831      0.001327         -0.024592          0.010802   \n",
       "3       -0.002135      0.001913         -0.033808          0.015410   \n",
       "4       -0.003896      0.002725         -0.043236          0.020124   \n",
       "..            ...           ...               ...               ...   \n",
       "237     -0.079515      0.039266         -0.181879          0.089121   \n",
       "238     -0.088603      0.043722         -0.191910          0.094137   \n",
       "239     -0.097411      0.048044         -0.201155          0.098759   \n",
       "240     -0.108148      0.053318         -0.211879          0.104122   \n",
       "241     -0.118996      0.058651         -0.222189          0.109277   \n",
       "\n",
       "     action_input_roll  action_input_pitch  episode  iteration  \n",
       "0            -0.083582           -0.055916        0          0  \n",
       "1            -0.053580           -0.084000        0          1  \n",
       "2             0.090582            0.042638        0          2  \n",
       "3            -0.055075           -0.031310        0          3  \n",
       "4            -0.070852            0.016007        0          4  \n",
       "..                 ...                 ...      ...        ...  \n",
       "237           0.085312           -0.027656        9         19  \n",
       "238          -0.085984           -0.007121        9         20  \n",
       "239          -0.050592            0.042282        9         21  \n",
       "240          -0.037530           -0.017444        9         22  \n",
       "241          -0.085328           -0.062818        9         23  \n",
       "\n",
       "[242 rows x 8 columns]"
      ]
     },
     "execution_count": 3,
     "metadata": {},
     "output_type": "execute_result"
    }
   ],
   "source": [
    "df"
   ]
  },
  {
   "cell_type": "code",
   "execution_count": 4,
   "id": "3cc9315b",
   "metadata": {},
   "outputs": [
    {
     "data": {
      "text/plain": [
       "<matplotlib.legend.Legend at 0x2486eca5c88>"
      ]
     },
     "execution_count": 4,
     "metadata": {},
     "output_type": "execute_result"
    },
    {
     "data": {
      "image/png": "[encoded data removed]",
      "text/plain": [
       "<Figure size 432x288 with 1 Axes>"
      ]
     },
     "metadata": {
      "needs_background": "light"
     },
     "output_type": "display_data"
    }
   ],
   "source": [
    "i=2\n",
    "plt.plot(df[df['episode']==i]['iteration'],df[df['episode']==i]['state_ball_x'],'o',label='sim')\n",
    "plt.plot(df_ddm[df['episode']==i]['iteration'],df_ddm[df['episode']==i]['state_ball_x'],'o',label='model')\n",
    "plt.legend(loc=\"lower right\")"
   ]
  },
  {
   "cell_type": "code",
   "execution_count": 5,
   "id": "d0f72b6f",
   "metadata": {},
   "outputs": [
    {
     "data": {
      "text/plain": [
       "<matplotlib.legend.Legend at 0x2486f5575c8>"
      ]
     },
     "execution_count": 5,
     "metadata": {},
     "output_type": "execute_result"
    },
    {
     "data": {
      "image/png": "[encoded data removed]",
      "text/plain": [
       "<Figure size 432x288 with 1 Axes>"
      ]
     },
     "metadata": {
      "needs_background": "light"
     },
     "output_type": "display_data"
    }
   ],
   "source": [
    "plt.plot(df[df['episode']==i]['iteration'],df[df['episode']==i]['state_ball_x']-df_ddm[df_ddm['episode']==i]['state_ball_x'], label='model error')\n",
    "plt.legend(loc=\"lower right\")"
   ]
  }
 ],
 "metadata": {
  "kernelspec": {
   "display_name": "Python 3",
   "language": "python",
   "name": "python3"
  },
  "language_info": {
   "codemirror_mode": {
    "name": "ipython",
    "version": 3
   },
   "file_extension": ".py",
   "mimetype": "text/x-python",
   "name": "python",
   "nbconvert_exporter": "python",
   "pygments_lexer": "ipython3",
   "version": "3.7.7"
  }
 },
 "nbformat": 4,
 "nbformat_minor": 5
}
