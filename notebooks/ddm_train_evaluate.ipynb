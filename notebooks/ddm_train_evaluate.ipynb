{
 "cells": [
  {
   "cell_type": "markdown",
   "metadata": {},
   "source": [
    "# Training and Evaluating Models with the Data-Driven Library\n",
    "\n",
    "This notebook provides an overview of the tools built in the DDM for extracting predictions from your trained DDM and for evauating the performance of the DDM.\n",
    "\n",
    "---\n",
    "\n",
    "We utilize `hydra` to save the configuration of our datasets and our models. The default configuration is in the `conf/config.yaml` directory:\n",
    "\n",
    "```YAML\n",
    "defaults:\n",
    "  - data: house_energy.yaml\n",
    "  - model: xgboost.yaml\n",
    "  - simulator: house_energy_simulator.yaml\n",
    "```\n",
    "\n",
    "Note that the configuration file points to three additional configuration files for each component: the data, the model, and the simulator.\n",
    "\n",
    "While the configuration file already has default values specified you can override any element of the configuration file using the `overrides` option. For example, we can override the data configuration to instead use the `yaml` file specified in `data/cartpole-100K-cts.csv.yaml` and the model configuration to use the `yaml` file specified in `model/SVR.yaml`.\n"
   ]
  },
  {
   "cell_type": "code",
   "execution_count": 1,
   "metadata": {},
   "outputs": [
    {
     "name": "stdout",
     "output_type": "stream",
     "text": [
      "/home/alizaidi/bonsai/datadrivenmodel\n"
     ]
    }
   ],
   "source": [
    "cd .."
   ]
  },
  {
   "cell_type": "code",
   "execution_count": 2,
   "metadata": {},
   "outputs": [],
   "source": [
    "from hydra.experimental import initialize, compose\n",
    "from hydra.core.global_hydra import GlobalHydra\n",
    "from model_loader import available_models\n",
    "import logging\n",
    "import matplotlib.pyplot as plt\n",
    "import numpy as np\n",
    "from rich import print\n",
    "from rich.logging import RichHandler\n",
    "import copy\n",
    "from assessment_metrics_loader import available_metrics\n",
    "\n",
    "logging.basicConfig(\n",
    "    level=logging.INFO,\n",
    "    format=\"%(message)s\",\n",
    "    datefmt=\"[%X]\",\n",
    "    handlers=[RichHandler()]\n",
    ")\n",
    "logger = logging.getLogger(\"ddm_notebook\")\n",
    "logger.setLevel(logging.INFO)"
   ]
  },
  {
   "cell_type": "code",
   "execution_count": 3,
   "metadata": {},
   "outputs": [
    {
     "name": "stderr",
     "output_type": "stream",
     "text": [
      "/anaconda/envs/ddm/lib/python3.7/site-packages/hydra/plugins/config_source.py:190: UserWarning: \n",
      "Missing @package directive data/cartpole_mixed.yaml in file:///home/alizaidi/bonsai/datadrivenmodel/conf.\n",
      "See https://hydra.cc/docs/next/upgrades/0.11_to_1.0/adding_a_package_directive\n",
      "  warnings.warn(message=msg, category=UserWarning)\n",
      "/anaconda/envs/ddm/lib/python3.7/site-packages/hydra/plugins/config_source.py:190: UserWarning: \n",
      "Missing @package directive model/xgboost.yaml in file:///home/alizaidi/bonsai/datadrivenmodel/conf.\n",
      "See https://hydra.cc/docs/next/upgrades/0.11_to_1.0/adding_a_package_directive\n",
      "  warnings.warn(message=msg, category=UserWarning)\n",
      "/anaconda/envs/ddm/lib/python3.7/site-packages/hydra/plugins/config_source.py:190: UserWarning: \n",
      "Missing @package directive simulator/cartpole_mixed_simparam.yaml in file:///home/alizaidi/bonsai/datadrivenmodel/conf.\n",
      "See https://hydra.cc/docs/next/upgrades/0.11_to_1.0/adding_a_package_directive\n",
      "  warnings.warn(message=msg, category=UserWarning)\n"
     ]
    }
   ],
   "source": [
    "GlobalHydra.instance().clear() \n",
    "initialize(config_path=\"../conf\", job_name=\"model_train_validate\")\n",
    "# cfg = compose(config_name=\"config\", overrides=[\"data=house_energy\", \"model=xgboost\", \"simulator=house_energy_simparam\"])\n",
    "# cfg = compose(config_name=\"config\", overrides=[\"data=cartpole_st1_at\", \"model=xgboost\", \"simulator=cartpole_simparam\"])\n",
    "# cfg = compose(config_name=\"config\", overrides=[\"data=cartpole_st1_at\", \"model=xgboost\", \"simulator=cartpole_simparam\", \"data.concatenated_steps=0\", \"data.concatenate_length=None\"])\n",
    "cfg = compose(config_name=\"config\", overrides=[\"data=cartpole_mixed\", \"model=xgboost\", \"simulator=cartpole_mixed_simparam\"])\n",
    "# cfg = compose(config_name=\"config\", overrides=[\"data=moab_5Kepi\", \"model=xgboost\", \"simulator=moab_simparam_wconfig\"])"
   ]
  },
  {
   "cell_type": "code",
   "execution_count": 4,
   "metadata": {},
   "outputs": [],
   "source": [
    "WANDB_LOGGER=True"
   ]
  },
  {
   "cell_type": "code",
   "execution_count": 5,
   "metadata": {},
   "outputs": [
    {
     "name": "stdout",
     "output_type": "stream",
     "text": [
      "env: \"WANDB_NOTEBOOK_NAME\"=\"ddm_train_evaluate.ipynb\"\n"
     ]
    },
    {
     "data": {
      "text/html": [
       "<pre style=\"white-space:pre;overflow-x:auto;line-height:normal;font-family:Menlo,'DejaVu Sans Mono',consolas,'Courier New',monospace\"><span style=\"color: #7fbfbf; text-decoration-color: #7fbfbf\">[18:25:51] </span><span style=\"color: #800000; text-decoration-color: #800000; font-weight: bold\">ERROR   </span> Failed to detect the name of this notebook, you can set it manually with the     <a href=\"file:///anaconda/envs/ddm/lib/python3.7/site-packages/wandb/jupyter.py\" target=\"_blank\"><span style=\"color: #7f7f7f; text-decoration-color: #7f7f7f\">jupyter.py</span></a><span style=\"color: #7f7f7f; text-decoration-color: #7f7f7f\">:</span><a href=\"file:///anaconda/envs/ddm/lib/python3.7/site-packages/wandb/jupyter.py#237\" target=\"_blank\"><span style=\"color: #7f7f7f; text-decoration-color: #7f7f7f\">237</span></a>\n",
       "<span style=\"color: #7fbfbf; text-decoration-color: #7fbfbf\">           </span>         WANDB_NOTEBOOK_NAME environment variable to enable code saving.                  <span style=\"color: #7f7f7f; text-decoration-color: #7f7f7f\">              </span>\n",
       "</pre>\n"
      ],
      "text/plain": [
       "\u001b[2;36m[18:25:51]\u001b[0m\u001b[2;36m \u001b[0m\u001b[1;31mERROR   \u001b[0m Failed to detect the name of this notebook, you can set it manually with the     \u001b]8;id=250210;file:///anaconda/envs/ddm/lib/python3.7/site-packages/wandb/jupyter.py\u001b\\\u001b[2mjupyter.py\u001b[0m\u001b]8;;\u001b\\\u001b[2m:\u001b[0m\u001b]8;id=620449;file:///anaconda/envs/ddm/lib/python3.7/site-packages/wandb/jupyter.py#237\u001b\\\u001b[2m237\u001b[0m\u001b]8;;\u001b\\\n",
       "\u001b[2;36m           \u001b[0m         WANDB_NOTEBOOK_NAME environment variable to enable code saving.                  \u001b[2m              \u001b[0m\n"
      ]
     },
     "metadata": {},
     "output_type": "display_data"
    },
    {
     "name": "stderr",
     "output_type": "stream",
     "text": [
      "\u001b[34m\u001b[1mwandb\u001b[0m: Currently logged in as: \u001b[33malizaidi\u001b[0m. Use \u001b[1m`wandb login --relogin`\u001b[0m to force relogin\n"
     ]
    },
    {
     "data": {
      "text/html": [
       "Tracking run with wandb version 0.13.1"
      ],
      "text/plain": [
       "<IPython.core.display.HTML object>"
      ]
     },
     "metadata": {},
     "output_type": "display_data"
    },
    {
     "data": {
      "text/html": [
       "Run data is saved locally in <code>/home/alizaidi/bonsai/datadrivenmodel/wandb/run-20220810_182552-32edu21c</code>"
      ],
      "text/plain": [
       "<IPython.core.display.HTML object>"
      ]
     },
     "metadata": {},
     "output_type": "display_data"
    },
    {
     "data": {
      "text/html": [
       "Syncing run <strong><a href=\"https://wandb.ai/alizaidi/ddm-train-eval-runs/runs/32edu21c\" target=\"_blank\">cartpole-mixed-with-var-concat-2022-08-10-18-25-52</a></strong> to <a href=\"https://wandb.ai/alizaidi/ddm-train-eval-runs\" target=\"_blank\">Weights & Biases</a> (<a href=\"https://wandb.me/run\" target=\"_blank\">docs</a>)<br/>"
      ],
      "text/plain": [
       "<IPython.core.display.HTML object>"
      ]
     },
     "metadata": {},
     "output_type": "display_data"
    }
   ],
   "source": [
    "%env \"WANDB_NOTEBOOK_NAME\" \"ddm_train_evaluate.ipynb\"\n",
    "if WANDB_LOGGER:\n",
    "    import datetime\n",
    "    import wandb\n",
    "    wandb.login()\n",
    "    wandb.init(\n",
    "        project=\"ddm-train-eval-runs\", group=\"cartpole\", name=\"cartpole-mixed-with-var-concat-\"+datetime.datetime.now().strftime(\"%Y-%m-%d-%H-%M-%S\"), config=cfg)"
   ]
  },
  {
   "cell_type": "code",
   "execution_count": 6,
   "metadata": {},
   "outputs": [
    {
     "data": {
      "text/plain": [
       "{'data': {'path': 'csv_data/cartpole_mixed_100k.csv', 'full_or_relative': 'relative', 'inputs': ['cart_position', 'cart_velocity', 'pole_angle', 'pole_angular_velocity'], 'outputs': ['cart_position', 'cart_velocity', 'pole_angle', 'pole_angular_velocity'], 'augmented_cols': ['pole_length', 'pole_mass', 'cart_mass', 'command'], 'iteration_order': -1, 'episode_col': 'episode', 'iteration_col': 'iteration', 'max_rows': -1, 'test_perc': 0.25, 'scale_data': True, 'diff_state': False, 'concatenated_steps': 5, 'concatenated_zero_padding': True, 'concatenate_length': {'cart_position': 2, 'cart_velocity': 2, 'pole_angle': 3, 'pole_angular_velocity': 10, 'command': 4}}, 'model': {'name': 'xgboost', 'build_params': {'model_type': 'xgboost', 'fit_separate': False, 'halt_model': False, 'n_estimators': 100, 'objective': 'reg:squarederror', 'learning_rate': 0.3, 'scale_data': True, 'max_depth': 6}, 'saver': {'filename': 'models/xgboost_models/house_energy'}, 'sweep': {'run': False, 'split_strategy': 'timeseries', 'search_algorithm': 'bayesian', 'num_trials': 15, 'scoring_func': 'r2', 'early_stopping': False, 'results_csv_path': 'xgboost_gridsearch/search_results.csv', 'params': {'estimator__max_depth': [1, 3, 5, 10], 'estimator__gamma': [0, 0.5, 1, 5], 'estimator__subsample': [0.1, 0.5, 1], 'estimator__eta': [0.3, 0.1, 0.5]}}}, 'simulator': {'states': ['cart_position', 'cart_velocity', 'pole_angle', 'pole_angular_velocity'], 'actions': ['command'], 'configs': ['pole_length', 'pole_mass', 'cart_mass'], 'episode_inits': {'pole_length': 0.4, 'pole_mass': 0.055, 'cart_mass': 0.31}, 'initial_states': {'cart_position': {'inkling_name': 'initial_cart_position', 'min': -0.05, 'max': 0.05}, 'cart_velocity': {'inkling_name': 'initial_cart_velocity', 'min': -0.05, 'max': 0.05}, 'pole_angle': {'inkling_name': 'initial_pole_angle', 'min': -0.05, 'max': 0.05}, 'pole_angular_velocity': {'inkling_name': 'initial_angular_velocity', 'min': -0.05, 'max': 0.05}}, 'signal_builder': None, 'policy': 'bonsai', 'logging': 'enable', 'workspace_setup': True}}"
      ]
     },
     "execution_count": 6,
     "metadata": {},
     "output_type": "execute_result"
    }
   ],
   "source": [
    "cfg"
   ]
  },
  {
   "cell_type": "markdown",
   "metadata": {},
   "source": [
    "## 1. Importing the Dataset"
   ]
  },
  {
   "cell_type": "code",
   "execution_count": 7,
   "metadata": {},
   "outputs": [],
   "source": [
    "# Extract features from yaml file\n",
    "from numpy import concatenate\n",
    "\n",
    "\n",
    "input_cols = cfg['data']['inputs']\n",
    "output_cols = cfg['data']['outputs']\n",
    "augmented_cols = cfg['data']['augmented_cols']\n",
    "dataset_path = cfg['data']['path']\n",
    "iteration_order = cfg['data']['iteration_order']\n",
    "episode_col = cfg['data']['episode_col']\n",
    "iteration_col = cfg['data']['iteration_col']\n",
    "# max_rows = cfg['data']['max_rows']\n",
    "max_rows = 50_000\n",
    "diff_state = cfg['data']['diff_state']\n",
    "test_perc = cfg['data']['test_perc']\n",
    "concatenated_steps = cfg[\"data\"][\"concatenated_steps\"]\n",
    "concatenated_zero_padding = cfg[\"data\"][\"concatenated_zero_padding\"]\n",
    "concatenate_length = cfg[\"data\"][\"concatenate_length\"]"
   ]
  },
  {
   "cell_type": "code",
   "execution_count": 8,
   "metadata": {},
   "outputs": [
    {
     "data": {
      "text/html": [
       "<pre style=\"white-space:pre;overflow-x:auto;line-height:normal;font-family:Menlo,'DejaVu Sans Mono',consolas,'Courier New',monospace\">DATA STRUCTURE SELECTED:\n",
       "</pre>\n"
      ],
      "text/plain": [
       "DATA STRUCTURE SELECTED:\n"
      ]
     },
     "metadata": {},
     "output_type": "display_data"
    },
    {
     "data": {
      "text/html": [
       "<pre style=\"white-space:pre;overflow-x:auto;line-height:normal;font-family:Menlo,'DejaVu Sans Mono',consolas,'Courier New',monospace\"> - input_cols: <span style=\"font-weight: bold\">[</span><span style=\"color: #008000; text-decoration-color: #008000\">'cart_position'</span>, <span style=\"color: #008000; text-decoration-color: #008000\">'cart_velocity'</span>, <span style=\"color: #008000; text-decoration-color: #008000\">'pole_angle'</span>, <span style=\"color: #008000; text-decoration-color: #008000\">'pole_angular_velocity'</span><span style=\"font-weight: bold\">]</span>\n",
       "</pre>\n"
      ],
      "text/plain": [
       " - input_cols: \u001b[1m[\u001b[0m\u001b[32m'cart_position'\u001b[0m, \u001b[32m'cart_velocity'\u001b[0m, \u001b[32m'pole_angle'\u001b[0m, \u001b[32m'pole_angular_velocity'\u001b[0m\u001b[1m]\u001b[0m\n"
      ]
     },
     "metadata": {},
     "output_type": "display_data"
    },
    {
     "data": {
      "text/html": [
       "<pre style=\"white-space:pre;overflow-x:auto;line-height:normal;font-family:Menlo,'DejaVu Sans Mono',consolas,'Courier New',monospace\"> - augmented_cols: <span style=\"font-weight: bold\">[</span><span style=\"color: #008000; text-decoration-color: #008000\">'pole_length'</span>, <span style=\"color: #008000; text-decoration-color: #008000\">'pole_mass'</span>, <span style=\"color: #008000; text-decoration-color: #008000\">'cart_mass'</span>, <span style=\"color: #008000; text-decoration-color: #008000\">'command'</span><span style=\"font-weight: bold\">]</span>\n",
       "</pre>\n"
      ],
      "text/plain": [
       " - augmented_cols: \u001b[1m[\u001b[0m\u001b[32m'pole_length'\u001b[0m, \u001b[32m'pole_mass'\u001b[0m, \u001b[32m'cart_mass'\u001b[0m, \u001b[32m'command'\u001b[0m\u001b[1m]\u001b[0m\n"
      ]
     },
     "metadata": {},
     "output_type": "display_data"
    },
    {
     "data": {
      "text/html": [
       "<pre style=\"white-space:pre;overflow-x:auto;line-height:normal;font-family:Menlo,'DejaVu Sans Mono',consolas,'Courier New',monospace\"> - output_cols: <span style=\"font-weight: bold\">[</span><span style=\"color: #008000; text-decoration-color: #008000\">'cart_position'</span>, <span style=\"color: #008000; text-decoration-color: #008000\">'cart_velocity'</span>, <span style=\"color: #008000; text-decoration-color: #008000\">'pole_angle'</span>, <span style=\"color: #008000; text-decoration-color: #008000\">'pole_angular_velocity'</span><span style=\"font-weight: bold\">]</span>\n",
       "</pre>\n"
      ],
      "text/plain": [
       " - output_cols: \u001b[1m[\u001b[0m\u001b[32m'cart_position'\u001b[0m, \u001b[32m'cart_velocity'\u001b[0m, \u001b[32m'pole_angle'\u001b[0m, \u001b[32m'pole_angular_velocity'\u001b[0m\u001b[1m]\u001b[0m\n"
      ]
     },
     "metadata": {},
     "output_type": "display_data"
    }
   ],
   "source": [
    "print(\"DATA STRUCTURE SELECTED:\")\n",
    "print(\" - input_cols:\", input_cols)\n",
    "print(\" - augmented_cols:\", augmented_cols)\n",
    "print(\" - output_cols:\", output_cols)"
   ]
  },
  {
   "cell_type": "markdown",
   "metadata": {},
   "source": [
    "##  2. Model Definition\n",
    "\n",
    "The `available_models` dictionary provides wrappers for the available models in this repository. We utilize `cfg[\"model\"]` to load and build the model specified in the `model.yaml` file.\n",
    "\n",
    "### Hyperparameters\n",
    "\n",
    "Every model has its own hyperparameters, specified through the `cfg[\"model\"][\"build_params\"]` dictionary, which can be modified directly in the dictionary below or through the `hydra` overrides."
   ]
  },
  {
   "cell_type": "code",
   "execution_count": 9,
   "metadata": {},
   "outputs": [
    {
     "data": {
      "text/plain": [
       "{'model_type': 'xgboost', 'fit_separate': False, 'halt_model': False, 'n_estimators': 100, 'objective': 'reg:squarederror', 'learning_rate': 0.3, 'scale_data': True, 'max_depth': 6}"
      ]
     },
     "execution_count": 9,
     "metadata": {},
     "output_type": "execute_result"
    }
   ],
   "source": [
    "cfg[\"model\"][\"build_params\"]"
   ]
  },
  {
   "cell_type": "markdown",
   "metadata": {},
   "source": [
    "## 3. Train the Model"
   ]
  },
  {
   "cell_type": "code",
   "execution_count": 10,
   "metadata": {},
   "outputs": [],
   "source": [
    "def train_models(config=cfg):\n",
    "\n",
    "    logger.info(f'Model type: {available_models[config[\"model\"][\"name\"]]}')\n",
    "    Model = available_models[config[\"model\"][\"name\"]]\n",
    "    model = Model()\n",
    "    logger.info(f\"Building model with parameters: {config}\")\n",
    "    model.build_model(\n",
    "        **config[\"model\"][\"build_params\"]\n",
    "    )\n",
    "    logger.info(f\"Loading data from {dataset_path}\")\n",
    "    global X_train, y_train, episode_ids_train, X_test, y_test\n",
    "    X_train, y_train, X_test, y_test = model.load_csv(\n",
    "        input_cols=input_cols,\n",
    "        output_cols=output_cols,\n",
    "        augm_cols=list(augmented_cols),\n",
    "        dataset_path=dataset_path,\n",
    "        iteration_order=iteration_order,\n",
    "        episode_col=episode_col,\n",
    "        iteration_col=iteration_col,\n",
    "        max_rows=max_rows,\n",
    "        diff_state=diff_state,\n",
    "        test_perc=test_perc,\n",
    "        concatenated_steps=concatenated_steps,\n",
    "        concatenated_zero_padding=concatenated_zero_padding,\n",
    "        concatenate_var_length=concatenate_length\n",
    "    )\n",
    "    \n",
    "    logger.info(f\"Fitting model...\")\n",
    "    model.fit(X_train, y_train)\n",
    "    logger.info(f\"Model trained!\")\n",
    "    y_pred = model.predict(X_test)\n",
    "    r2_score = available_metrics[\"r2_score\"]\n",
    "    logger.info(f\"R^2 score is {r2_score(y_test,y_pred)} for the test set.\")\n",
    "\n",
    "    return model"
   ]
  },
  {
   "cell_type": "code",
   "execution_count": 11,
   "metadata": {},
   "outputs": [
    {
     "data": {
      "text/html": [
       "<pre style=\"white-space:pre;overflow-x:auto;line-height:normal;font-family:Menlo,'DejaVu Sans Mono',consolas,'Courier New',monospace\"><span style=\"color: #7fbfbf; text-decoration-color: #7fbfbf\">[18:25:53] </span><span style=\"color: #000080; text-decoration-color: #000080\">INFO    </span> Model type: <span style=\"font-weight: bold\">&lt;</span><span style=\"color: #ff00ff; text-decoration-color: #ff00ff; font-weight: bold\">class</span><span style=\"color: #000000; text-decoration-color: #000000\"> </span><span style=\"color: #008000; text-decoration-color: #008000\">'gboost_models.GBoostModel'</span><span style=\"font-weight: bold\">&gt;</span>               <a href=\"file://<ipython-input-10-947f7e075198>\" target=\"_blank\"><span style=\"color: #7f7f7f; text-decoration-color: #7f7f7f\">&lt;ipython-input-10-947f7e075198&gt;</span></a><span style=\"color: #7f7f7f; text-decoration-color: #7f7f7f\">:</span><a href=\"file://<ipython-input-10-947f7e075198>#3\" target=\"_blank\"><span style=\"color: #7f7f7f; text-decoration-color: #7f7f7f\">3</span></a>\n",
       "</pre>\n"
      ],
      "text/plain": [
       "\u001b[2;36m[18:25:53]\u001b[0m\u001b[2;36m \u001b[0m\u001b[34mINFO    \u001b[0m Model type: \u001b[1m<\u001b[0m\u001b[1;95mclass\u001b[0m\u001b[39m \u001b[0m\u001b[32m'gboost_models.GBoostModel'\u001b[0m\u001b[1m>\u001b[0m               \u001b]8;id=629165;file://<ipython-input-10-947f7e075198>\u001b\\\u001b[2m<ipython-input-10-947f7e075198>\u001b[0m\u001b]8;;\u001b\\\u001b[2m:\u001b[0m\u001b]8;id=459613;file://<ipython-input-10-947f7e075198>#3\u001b\\\u001b[2m3\u001b[0m\u001b]8;;\u001b\\\n"
      ]
     },
     "metadata": {},
     "output_type": "display_data"
    },
    {
     "data": {
      "text/html": [
       "<pre style=\"white-space:pre;overflow-x:auto;line-height:normal;font-family:Menlo,'DejaVu Sans Mono',consolas,'Courier New',monospace\"><span style=\"color: #7fbfbf; text-decoration-color: #7fbfbf\">           </span><span style=\"color: #000080; text-decoration-color: #000080\">INFO    </span> Building model with parameters: <span style=\"font-weight: bold\">{</span><span style=\"color: #008000; text-decoration-color: #008000\">'data'</span>: <span style=\"font-weight: bold\">{</span><span style=\"color: #008000; text-decoration-color: #008000\">'path'</span>:             <a href=\"file://<ipython-input-10-947f7e075198>\" target=\"_blank\"><span style=\"color: #7f7f7f; text-decoration-color: #7f7f7f\">&lt;ipython-input-10-947f7e075198&gt;</span></a><span style=\"color: #7f7f7f; text-decoration-color: #7f7f7f\">:</span><a href=\"file://<ipython-input-10-947f7e075198>#6\" target=\"_blank\"><span style=\"color: #7f7f7f; text-decoration-color: #7f7f7f\">6</span></a>\n",
       "<span style=\"color: #7fbfbf; text-decoration-color: #7fbfbf\">           </span>         <span style=\"color: #008000; text-decoration-color: #008000\">'csv_data/cartpole_mixed_100k.csv'</span>, <span style=\"color: #008000; text-decoration-color: #008000\">'full_or_relative'</span>:       <span style=\"color: #7f7f7f; text-decoration-color: #7f7f7f\">                                 </span>\n",
       "<span style=\"color: #7fbfbf; text-decoration-color: #7fbfbf\">           </span>         <span style=\"color: #008000; text-decoration-color: #008000\">'relative'</span>, <span style=\"color: #008000; text-decoration-color: #008000\">'inputs'</span>: <span style=\"font-weight: bold\">[</span><span style=\"color: #008000; text-decoration-color: #008000\">'cart_position'</span>, <span style=\"color: #008000; text-decoration-color: #008000\">'cart_velocity'</span>,      <span style=\"color: #7f7f7f; text-decoration-color: #7f7f7f\">                                 </span>\n",
       "<span style=\"color: #7fbfbf; text-decoration-color: #7fbfbf\">           </span>         <span style=\"color: #008000; text-decoration-color: #008000\">'pole_angle'</span>, <span style=\"color: #008000; text-decoration-color: #008000\">'pole_angular_velocity'</span><span style=\"font-weight: bold\">]</span>, <span style=\"color: #008000; text-decoration-color: #008000\">'outputs'</span>:            <span style=\"color: #7f7f7f; text-decoration-color: #7f7f7f\">                                 </span>\n",
       "<span style=\"color: #7fbfbf; text-decoration-color: #7fbfbf\">           </span>         <span style=\"font-weight: bold\">[</span><span style=\"color: #008000; text-decoration-color: #008000\">'cart_position'</span>, <span style=\"color: #008000; text-decoration-color: #008000\">'cart_velocity'</span>, <span style=\"color: #008000; text-decoration-color: #008000\">'pole_angle'</span>,              <span style=\"color: #7f7f7f; text-decoration-color: #7f7f7f\">                                 </span>\n",
       "<span style=\"color: #7fbfbf; text-decoration-color: #7fbfbf\">           </span>         <span style=\"color: #008000; text-decoration-color: #008000\">'pole_angular_velocity'</span><span style=\"font-weight: bold\">]</span>, <span style=\"color: #008000; text-decoration-color: #008000\">'augmented_cols'</span>: <span style=\"font-weight: bold\">[</span><span style=\"color: #008000; text-decoration-color: #008000\">'pole_length'</span>,   <span style=\"color: #7f7f7f; text-decoration-color: #7f7f7f\">                                 </span>\n",
       "<span style=\"color: #7fbfbf; text-decoration-color: #7fbfbf\">           </span>         <span style=\"color: #008000; text-decoration-color: #008000\">'pole_mass'</span>, <span style=\"color: #008000; text-decoration-color: #008000\">'cart_mass'</span>, <span style=\"color: #008000; text-decoration-color: #008000\">'command'</span><span style=\"font-weight: bold\">]</span>, <span style=\"color: #008000; text-decoration-color: #008000\">'iteration_order'</span>: <span style=\"color: #008080; text-decoration-color: #008080; font-weight: bold\">-1</span>,  <span style=\"color: #7f7f7f; text-decoration-color: #7f7f7f\">                                 </span>\n",
       "<span style=\"color: #7fbfbf; text-decoration-color: #7fbfbf\">           </span>         <span style=\"color: #008000; text-decoration-color: #008000\">'episode_col'</span>: <span style=\"color: #008000; text-decoration-color: #008000\">'episode'</span>, <span style=\"color: #008000; text-decoration-color: #008000\">'iteration_col'</span>: <span style=\"color: #008000; text-decoration-color: #008000\">'iteration'</span>,       <span style=\"color: #7f7f7f; text-decoration-color: #7f7f7f\">                                 </span>\n",
       "<span style=\"color: #7fbfbf; text-decoration-color: #7fbfbf\">           </span>         <span style=\"color: #008000; text-decoration-color: #008000\">'max_rows'</span>: <span style=\"color: #008080; text-decoration-color: #008080; font-weight: bold\">-1</span>, <span style=\"color: #008000; text-decoration-color: #008000\">'test_perc'</span>: <span style=\"color: #008080; text-decoration-color: #008080; font-weight: bold\">0.25</span>, <span style=\"color: #008000; text-decoration-color: #008000\">'scale_data'</span>: <span style=\"color: #00ff00; text-decoration-color: #00ff00; font-style: italic\">True</span>,        <span style=\"color: #7f7f7f; text-decoration-color: #7f7f7f\">                                 </span>\n",
       "<span style=\"color: #7fbfbf; text-decoration-color: #7fbfbf\">           </span>         <span style=\"color: #008000; text-decoration-color: #008000\">'diff_state'</span>: <span style=\"color: #ff0000; text-decoration-color: #ff0000; font-style: italic\">False</span>, <span style=\"color: #008000; text-decoration-color: #008000\">'concatenated_steps'</span>: <span style=\"color: #008080; text-decoration-color: #008080; font-weight: bold\">5</span>,                 <span style=\"color: #7f7f7f; text-decoration-color: #7f7f7f\">                                 </span>\n",
       "<span style=\"color: #7fbfbf; text-decoration-color: #7fbfbf\">           </span>         <span style=\"color: #008000; text-decoration-color: #008000\">'concatenated_zero_padding'</span>: <span style=\"color: #00ff00; text-decoration-color: #00ff00; font-style: italic\">True</span>, <span style=\"color: #008000; text-decoration-color: #008000\">'concatenate_length'</span>:      <span style=\"color: #7f7f7f; text-decoration-color: #7f7f7f\">                                 </span>\n",
       "<span style=\"color: #7fbfbf; text-decoration-color: #7fbfbf\">           </span>         <span style=\"font-weight: bold\">{</span><span style=\"color: #008000; text-decoration-color: #008000\">'cart_position'</span>: <span style=\"color: #008080; text-decoration-color: #008080; font-weight: bold\">2</span>, <span style=\"color: #008000; text-decoration-color: #008000\">'cart_velocity'</span>: <span style=\"color: #008080; text-decoration-color: #008080; font-weight: bold\">2</span>, <span style=\"color: #008000; text-decoration-color: #008000\">'pole_angle'</span>: <span style=\"color: #008080; text-decoration-color: #008080; font-weight: bold\">3</span>,     <span style=\"color: #7f7f7f; text-decoration-color: #7f7f7f\">                                 </span>\n",
       "<span style=\"color: #7fbfbf; text-decoration-color: #7fbfbf\">           </span>         <span style=\"color: #008000; text-decoration-color: #008000\">'pole_angular_velocity'</span>: <span style=\"color: #008080; text-decoration-color: #008080; font-weight: bold\">10</span>, <span style=\"color: #008000; text-decoration-color: #008000\">'command'</span>: <span style=\"color: #008080; text-decoration-color: #008080; font-weight: bold\">4</span><span style=\"font-weight: bold\">}}</span>, <span style=\"color: #008000; text-decoration-color: #008000\">'model'</span>:         <span style=\"color: #7f7f7f; text-decoration-color: #7f7f7f\">                                 </span>\n",
       "<span style=\"color: #7fbfbf; text-decoration-color: #7fbfbf\">           </span>         <span style=\"font-weight: bold\">{</span><span style=\"color: #008000; text-decoration-color: #008000\">'name'</span>: <span style=\"color: #008000; text-decoration-color: #008000\">'xgboost'</span>, <span style=\"color: #008000; text-decoration-color: #008000\">'build_params'</span>: <span style=\"font-weight: bold\">{</span><span style=\"color: #008000; text-decoration-color: #008000\">'model_type'</span>: <span style=\"color: #008000; text-decoration-color: #008000\">'xgboost'</span>, <span style=\"color: #7f7f7f; text-decoration-color: #7f7f7f\">                                 </span>\n",
       "<span style=\"color: #7fbfbf; text-decoration-color: #7fbfbf\">           </span>         <span style=\"color: #008000; text-decoration-color: #008000\">'fit_separate'</span>: <span style=\"color: #ff0000; text-decoration-color: #ff0000; font-style: italic\">False</span>, <span style=\"color: #008000; text-decoration-color: #008000\">'halt_model'</span>: <span style=\"color: #ff0000; text-decoration-color: #ff0000; font-style: italic\">False</span>, <span style=\"color: #008000; text-decoration-color: #008000\">'n_estimators'</span>:   <span style=\"color: #7f7f7f; text-decoration-color: #7f7f7f\">                                 </span>\n",
       "<span style=\"color: #7fbfbf; text-decoration-color: #7fbfbf\">           </span>         <span style=\"color: #008080; text-decoration-color: #008080; font-weight: bold\">100</span>, <span style=\"color: #008000; text-decoration-color: #008000\">'objective'</span>: <span style=\"color: #008000; text-decoration-color: #008000\">'reg:squarederror'</span>, <span style=\"color: #008000; text-decoration-color: #008000\">'learning_rate'</span>: <span style=\"color: #008080; text-decoration-color: #008080; font-weight: bold\">0.3</span>,   <span style=\"color: #7f7f7f; text-decoration-color: #7f7f7f\">                                 </span>\n",
       "<span style=\"color: #7fbfbf; text-decoration-color: #7fbfbf\">           </span>         <span style=\"color: #008000; text-decoration-color: #008000\">'scale_data'</span>: <span style=\"color: #00ff00; text-decoration-color: #00ff00; font-style: italic\">True</span>, <span style=\"color: #008000; text-decoration-color: #008000\">'max_depth'</span>: <span style=\"color: #008080; text-decoration-color: #008080; font-weight: bold\">6</span><span style=\"font-weight: bold\">}</span>, <span style=\"color: #008000; text-decoration-color: #008000\">'saver'</span>: <span style=\"font-weight: bold\">{</span><span style=\"color: #008000; text-decoration-color: #008000\">'filename'</span>:    <span style=\"color: #7f7f7f; text-decoration-color: #7f7f7f\">                                 </span>\n",
       "<span style=\"color: #7fbfbf; text-decoration-color: #7fbfbf\">           </span>         <span style=\"color: #008000; text-decoration-color: #008000\">'models/xgboost_models/house_energy'</span><span style=\"font-weight: bold\">}</span>, <span style=\"color: #008000; text-decoration-color: #008000\">'sweep'</span>: <span style=\"font-weight: bold\">{</span><span style=\"color: #008000; text-decoration-color: #008000\">'run'</span>:       <span style=\"color: #7f7f7f; text-decoration-color: #7f7f7f\">                                 </span>\n",
       "<span style=\"color: #7fbfbf; text-decoration-color: #7fbfbf\">           </span>         <span style=\"color: #ff0000; text-decoration-color: #ff0000; font-style: italic\">False</span>, <span style=\"color: #008000; text-decoration-color: #008000\">'split_strategy'</span>: <span style=\"color: #008000; text-decoration-color: #008000\">'timeseries'</span>, <span style=\"color: #008000; text-decoration-color: #008000\">'search_algorithm'</span>:    <span style=\"color: #7f7f7f; text-decoration-color: #7f7f7f\">                                 </span>\n",
       "<span style=\"color: #7fbfbf; text-decoration-color: #7fbfbf\">           </span>         <span style=\"color: #008000; text-decoration-color: #008000\">'bayesian'</span>, <span style=\"color: #008000; text-decoration-color: #008000\">'num_trials'</span>: <span style=\"color: #008080; text-decoration-color: #008080; font-weight: bold\">15</span>, <span style=\"color: #008000; text-decoration-color: #008000\">'scoring_func'</span>: <span style=\"color: #008000; text-decoration-color: #008000\">'r2'</span>,           <span style=\"color: #7f7f7f; text-decoration-color: #7f7f7f\">                                 </span>\n",
       "<span style=\"color: #7fbfbf; text-decoration-color: #7fbfbf\">           </span>         <span style=\"color: #008000; text-decoration-color: #008000\">'early_stopping'</span>: <span style=\"color: #ff0000; text-decoration-color: #ff0000; font-style: italic\">False</span>, <span style=\"color: #008000; text-decoration-color: #008000\">'results_csv_path'</span>:                  <span style=\"color: #7f7f7f; text-decoration-color: #7f7f7f\">                                 </span>\n",
       "<span style=\"color: #7fbfbf; text-decoration-color: #7fbfbf\">           </span>         <span style=\"color: #008000; text-decoration-color: #008000\">'xgboost_gridsearch/search_results.csv'</span>, <span style=\"color: #008000; text-decoration-color: #008000\">'params'</span>:            <span style=\"color: #7f7f7f; text-decoration-color: #7f7f7f\">                                 </span>\n",
       "<span style=\"color: #7fbfbf; text-decoration-color: #7fbfbf\">           </span>         <span style=\"font-weight: bold\">{</span><span style=\"color: #008000; text-decoration-color: #008000\">'estimator__max_depth'</span>: <span style=\"font-weight: bold\">[</span><span style=\"color: #008080; text-decoration-color: #008080; font-weight: bold\">1</span>, <span style=\"color: #008080; text-decoration-color: #008080; font-weight: bold\">3</span>, <span style=\"color: #008080; text-decoration-color: #008080; font-weight: bold\">5</span>, <span style=\"color: #008080; text-decoration-color: #008080; font-weight: bold\">10</span><span style=\"font-weight: bold\">]</span>, <span style=\"color: #008000; text-decoration-color: #008000\">'estimator__gamma'</span>:   <span style=\"color: #7f7f7f; text-decoration-color: #7f7f7f\">                                 </span>\n",
       "<span style=\"color: #7fbfbf; text-decoration-color: #7fbfbf\">           </span>         <span style=\"font-weight: bold\">[</span><span style=\"color: #008080; text-decoration-color: #008080; font-weight: bold\">0</span>, <span style=\"color: #008080; text-decoration-color: #008080; font-weight: bold\">0.5</span>, <span style=\"color: #008080; text-decoration-color: #008080; font-weight: bold\">1</span>, <span style=\"color: #008080; text-decoration-color: #008080; font-weight: bold\">5</span><span style=\"font-weight: bold\">]</span>, <span style=\"color: #008000; text-decoration-color: #008000\">'estimator__subsample'</span>: <span style=\"font-weight: bold\">[</span><span style=\"color: #008080; text-decoration-color: #008080; font-weight: bold\">0.1</span>, <span style=\"color: #008080; text-decoration-color: #008080; font-weight: bold\">0.5</span>, <span style=\"color: #008080; text-decoration-color: #008080; font-weight: bold\">1</span><span style=\"font-weight: bold\">]</span>,        <span style=\"color: #7f7f7f; text-decoration-color: #7f7f7f\">                                 </span>\n",
       "<span style=\"color: #7fbfbf; text-decoration-color: #7fbfbf\">           </span>         <span style=\"color: #008000; text-decoration-color: #008000\">'estimator__eta'</span>: <span style=\"font-weight: bold\">[</span><span style=\"color: #008080; text-decoration-color: #008080; font-weight: bold\">0.3</span>, <span style=\"color: #008080; text-decoration-color: #008080; font-weight: bold\">0.1</span>, <span style=\"color: #008080; text-decoration-color: #008080; font-weight: bold\">0.5</span><span style=\"font-weight: bold\">]}}}</span>, <span style=\"color: #008000; text-decoration-color: #008000\">'simulator'</span>: <span style=\"font-weight: bold\">{</span><span style=\"color: #008000; text-decoration-color: #008000\">'states'</span>: <span style=\"color: #7f7f7f; text-decoration-color: #7f7f7f\">                                 </span>\n",
       "<span style=\"color: #7fbfbf; text-decoration-color: #7fbfbf\">           </span>         <span style=\"font-weight: bold\">[</span><span style=\"color: #008000; text-decoration-color: #008000\">'cart_position'</span>, <span style=\"color: #008000; text-decoration-color: #008000\">'cart_velocity'</span>, <span style=\"color: #008000; text-decoration-color: #008000\">'pole_angle'</span>,              <span style=\"color: #7f7f7f; text-decoration-color: #7f7f7f\">                                 </span>\n",
       "<span style=\"color: #7fbfbf; text-decoration-color: #7fbfbf\">           </span>         <span style=\"color: #008000; text-decoration-color: #008000\">'pole_angular_velocity'</span><span style=\"font-weight: bold\">]</span>, <span style=\"color: #008000; text-decoration-color: #008000\">'actions'</span>: <span style=\"font-weight: bold\">[</span><span style=\"color: #008000; text-decoration-color: #008000\">'command'</span><span style=\"font-weight: bold\">]</span>, <span style=\"color: #008000; text-decoration-color: #008000\">'configs'</span>:  <span style=\"color: #7f7f7f; text-decoration-color: #7f7f7f\">                                 </span>\n",
       "<span style=\"color: #7fbfbf; text-decoration-color: #7fbfbf\">           </span>         <span style=\"font-weight: bold\">[</span><span style=\"color: #008000; text-decoration-color: #008000\">'pole_length'</span>, <span style=\"color: #008000; text-decoration-color: #008000\">'pole_mass'</span>, <span style=\"color: #008000; text-decoration-color: #008000\">'cart_mass'</span><span style=\"font-weight: bold\">]</span>, <span style=\"color: #008000; text-decoration-color: #008000\">'episode_inits'</span>:   <span style=\"color: #7f7f7f; text-decoration-color: #7f7f7f\">                                 </span>\n",
       "<span style=\"color: #7fbfbf; text-decoration-color: #7fbfbf\">           </span>         <span style=\"font-weight: bold\">{</span><span style=\"color: #008000; text-decoration-color: #008000\">'pole_length'</span>: <span style=\"color: #008080; text-decoration-color: #008080; font-weight: bold\">0.4</span>, <span style=\"color: #008000; text-decoration-color: #008000\">'pole_mass'</span>: <span style=\"color: #008080; text-decoration-color: #008080; font-weight: bold\">0.055</span>, <span style=\"color: #008000; text-decoration-color: #008000\">'cart_mass'</span>: <span style=\"color: #008080; text-decoration-color: #008080; font-weight: bold\">0.31</span><span style=\"font-weight: bold\">}</span>,  <span style=\"color: #7f7f7f; text-decoration-color: #7f7f7f\">                                 </span>\n",
       "<span style=\"color: #7fbfbf; text-decoration-color: #7fbfbf\">           </span>         <span style=\"color: #008000; text-decoration-color: #008000\">'initial_states'</span>: <span style=\"font-weight: bold\">{</span><span style=\"color: #008000; text-decoration-color: #008000\">'cart_position'</span>: <span style=\"font-weight: bold\">{</span><span style=\"color: #008000; text-decoration-color: #008000\">'inkling_name'</span>:          <span style=\"color: #7f7f7f; text-decoration-color: #7f7f7f\">                                 </span>\n",
       "<span style=\"color: #7fbfbf; text-decoration-color: #7fbfbf\">           </span>         <span style=\"color: #008000; text-decoration-color: #008000\">'initial_cart_position'</span>, <span style=\"color: #008000; text-decoration-color: #008000\">'min'</span>: <span style=\"color: #008080; text-decoration-color: #008080; font-weight: bold\">-0.05</span>, <span style=\"color: #008000; text-decoration-color: #008000\">'max'</span>: <span style=\"color: #008080; text-decoration-color: #008080; font-weight: bold\">0.05</span><span style=\"font-weight: bold\">}</span>,          <span style=\"color: #7f7f7f; text-decoration-color: #7f7f7f\">                                 </span>\n",
       "<span style=\"color: #7fbfbf; text-decoration-color: #7fbfbf\">           </span>         <span style=\"color: #008000; text-decoration-color: #008000\">'cart_velocity'</span>: <span style=\"font-weight: bold\">{</span><span style=\"color: #008000; text-decoration-color: #008000\">'inkling_name'</span>: <span style=\"color: #008000; text-decoration-color: #008000\">'initial_cart_velocity'</span>,    <span style=\"color: #7f7f7f; text-decoration-color: #7f7f7f\">                                 </span>\n",
       "<span style=\"color: #7fbfbf; text-decoration-color: #7fbfbf\">           </span>         <span style=\"color: #008000; text-decoration-color: #008000\">'min'</span>: <span style=\"color: #008080; text-decoration-color: #008080; font-weight: bold\">-0.05</span>, <span style=\"color: #008000; text-decoration-color: #008000\">'max'</span>: <span style=\"color: #008080; text-decoration-color: #008080; font-weight: bold\">0.05</span><span style=\"font-weight: bold\">}</span>, <span style=\"color: #008000; text-decoration-color: #008000\">'pole_angle'</span>: <span style=\"font-weight: bold\">{</span><span style=\"color: #008000; text-decoration-color: #008000\">'inkling_name'</span>:    <span style=\"color: #7f7f7f; text-decoration-color: #7f7f7f\">                                 </span>\n",
       "<span style=\"color: #7fbfbf; text-decoration-color: #7fbfbf\">           </span>         <span style=\"color: #008000; text-decoration-color: #008000\">'initial_pole_angle'</span>, <span style=\"color: #008000; text-decoration-color: #008000\">'min'</span>: <span style=\"color: #008080; text-decoration-color: #008080; font-weight: bold\">-0.05</span>, <span style=\"color: #008000; text-decoration-color: #008000\">'max'</span>: <span style=\"color: #008080; text-decoration-color: #008080; font-weight: bold\">0.05</span><span style=\"font-weight: bold\">}</span>,             <span style=\"color: #7f7f7f; text-decoration-color: #7f7f7f\">                                 </span>\n",
       "<span style=\"color: #7fbfbf; text-decoration-color: #7fbfbf\">           </span>         <span style=\"color: #008000; text-decoration-color: #008000\">'pole_angular_velocity'</span>: <span style=\"font-weight: bold\">{</span><span style=\"color: #008000; text-decoration-color: #008000\">'inkling_name'</span>:                     <span style=\"color: #7f7f7f; text-decoration-color: #7f7f7f\">                                 </span>\n",
       "<span style=\"color: #7fbfbf; text-decoration-color: #7fbfbf\">           </span>         <span style=\"color: #008000; text-decoration-color: #008000\">'initial_angular_velocity'</span>, <span style=\"color: #008000; text-decoration-color: #008000\">'min'</span>: <span style=\"color: #008080; text-decoration-color: #008080; font-weight: bold\">-0.05</span>, <span style=\"color: #008000; text-decoration-color: #008000\">'max'</span>: <span style=\"color: #008080; text-decoration-color: #008080; font-weight: bold\">0.05</span><span style=\"font-weight: bold\">}}</span>,      <span style=\"color: #7f7f7f; text-decoration-color: #7f7f7f\">                                 </span>\n",
       "<span style=\"color: #7fbfbf; text-decoration-color: #7fbfbf\">           </span>         <span style=\"color: #008000; text-decoration-color: #008000\">'signal_builder'</span>: <span style=\"color: #800080; text-decoration-color: #800080; font-style: italic\">None</span>, <span style=\"color: #008000; text-decoration-color: #008000\">'policy'</span>: <span style=\"color: #008000; text-decoration-color: #008000\">'bonsai'</span>, <span style=\"color: #008000; text-decoration-color: #008000\">'logging'</span>:        <span style=\"color: #7f7f7f; text-decoration-color: #7f7f7f\">                                 </span>\n",
       "<span style=\"color: #7fbfbf; text-decoration-color: #7fbfbf\">           </span>         <span style=\"color: #008000; text-decoration-color: #008000\">'enable'</span>, <span style=\"color: #008000; text-decoration-color: #008000\">'workspace_setup'</span>: <span style=\"color: #00ff00; text-decoration-color: #00ff00; font-style: italic\">True</span><span style=\"font-weight: bold\">}}</span>                           <span style=\"color: #7f7f7f; text-decoration-color: #7f7f7f\">                                 </span>\n",
       "</pre>\n"
      ],
      "text/plain": [
       "\u001b[2;36m          \u001b[0m\u001b[2;36m \u001b[0m\u001b[34mINFO    \u001b[0m Building model with parameters: \u001b[1m{\u001b[0m\u001b[32m'data'\u001b[0m: \u001b[1m{\u001b[0m\u001b[32m'path'\u001b[0m:             \u001b]8;id=350311;file://<ipython-input-10-947f7e075198>\u001b\\\u001b[2m<ipython-input-10-947f7e075198>\u001b[0m\u001b]8;;\u001b\\\u001b[2m:\u001b[0m\u001b]8;id=602118;file://<ipython-input-10-947f7e075198>#6\u001b\\\u001b[2m6\u001b[0m\u001b]8;;\u001b\\\n",
       "\u001b[2;36m           \u001b[0m         \u001b[32m'csv_data/cartpole_mixed_100k.csv'\u001b[0m, \u001b[32m'full_or_relative'\u001b[0m:       \u001b[2m                                 \u001b[0m\n",
       "\u001b[2;36m           \u001b[0m         \u001b[32m'relative'\u001b[0m, \u001b[32m'inputs'\u001b[0m: \u001b[1m[\u001b[0m\u001b[32m'cart_position'\u001b[0m, \u001b[32m'cart_velocity'\u001b[0m,      \u001b[2m                                 \u001b[0m\n",
       "\u001b[2;36m           \u001b[0m         \u001b[32m'pole_angle'\u001b[0m, \u001b[32m'pole_angular_velocity'\u001b[0m\u001b[1m]\u001b[0m, \u001b[32m'outputs'\u001b[0m:            \u001b[2m                                 \u001b[0m\n",
       "\u001b[2;36m           \u001b[0m         \u001b[1m[\u001b[0m\u001b[32m'cart_position'\u001b[0m, \u001b[32m'cart_velocity'\u001b[0m, \u001b[32m'pole_angle'\u001b[0m,              \u001b[2m                                 \u001b[0m\n",
       "\u001b[2;36m           \u001b[0m         \u001b[32m'pole_angular_velocity'\u001b[0m\u001b[1m]\u001b[0m, \u001b[32m'augmented_cols'\u001b[0m: \u001b[1m[\u001b[0m\u001b[32m'pole_length'\u001b[0m,   \u001b[2m                                 \u001b[0m\n",
       "\u001b[2;36m           \u001b[0m         \u001b[32m'pole_mass'\u001b[0m, \u001b[32m'cart_mass'\u001b[0m, \u001b[32m'command'\u001b[0m\u001b[1m]\u001b[0m, \u001b[32m'iteration_order'\u001b[0m: \u001b[1;36m-1\u001b[0m,  \u001b[2m                                 \u001b[0m\n",
       "\u001b[2;36m           \u001b[0m         \u001b[32m'episode_col'\u001b[0m: \u001b[32m'episode'\u001b[0m, \u001b[32m'iteration_col'\u001b[0m: \u001b[32m'iteration'\u001b[0m,       \u001b[2m                                 \u001b[0m\n",
       "\u001b[2;36m           \u001b[0m         \u001b[32m'max_rows'\u001b[0m: \u001b[1;36m-1\u001b[0m, \u001b[32m'test_perc'\u001b[0m: \u001b[1;36m0.25\u001b[0m, \u001b[32m'scale_data'\u001b[0m: \u001b[3;92mTrue\u001b[0m,        \u001b[2m                                 \u001b[0m\n",
       "\u001b[2;36m           \u001b[0m         \u001b[32m'diff_state'\u001b[0m: \u001b[3;91mFalse\u001b[0m, \u001b[32m'concatenated_steps'\u001b[0m: \u001b[1;36m5\u001b[0m,                 \u001b[2m                                 \u001b[0m\n",
       "\u001b[2;36m           \u001b[0m         \u001b[32m'concatenated_zero_padding'\u001b[0m: \u001b[3;92mTrue\u001b[0m, \u001b[32m'concatenate_length'\u001b[0m:      \u001b[2m                                 \u001b[0m\n",
       "\u001b[2;36m           \u001b[0m         \u001b[1m{\u001b[0m\u001b[32m'cart_position'\u001b[0m: \u001b[1;36m2\u001b[0m, \u001b[32m'cart_velocity'\u001b[0m: \u001b[1;36m2\u001b[0m, \u001b[32m'pole_angle'\u001b[0m: \u001b[1;36m3\u001b[0m,     \u001b[2m                                 \u001b[0m\n",
       "\u001b[2;36m           \u001b[0m         \u001b[32m'pole_angular_velocity'\u001b[0m: \u001b[1;36m10\u001b[0m, \u001b[32m'command'\u001b[0m: \u001b[1;36m4\u001b[0m\u001b[1m}\u001b[0m\u001b[1m}\u001b[0m, \u001b[32m'model'\u001b[0m:         \u001b[2m                                 \u001b[0m\n",
       "\u001b[2;36m           \u001b[0m         \u001b[1m{\u001b[0m\u001b[32m'name'\u001b[0m: \u001b[32m'xgboost'\u001b[0m, \u001b[32m'build_params'\u001b[0m: \u001b[1m{\u001b[0m\u001b[32m'model_type'\u001b[0m: \u001b[32m'xgboost'\u001b[0m, \u001b[2m                                 \u001b[0m\n",
       "\u001b[2;36m           \u001b[0m         \u001b[32m'fit_separate'\u001b[0m: \u001b[3;91mFalse\u001b[0m, \u001b[32m'halt_model'\u001b[0m: \u001b[3;91mFalse\u001b[0m, \u001b[32m'n_estimators'\u001b[0m:   \u001b[2m                                 \u001b[0m\n",
       "\u001b[2;36m           \u001b[0m         \u001b[1;36m100\u001b[0m, \u001b[32m'objective'\u001b[0m: \u001b[32m'reg:squarederror'\u001b[0m, \u001b[32m'learning_rate'\u001b[0m: \u001b[1;36m0.3\u001b[0m,   \u001b[2m                                 \u001b[0m\n",
       "\u001b[2;36m           \u001b[0m         \u001b[32m'scale_data'\u001b[0m: \u001b[3;92mTrue\u001b[0m, \u001b[32m'max_depth'\u001b[0m: \u001b[1;36m6\u001b[0m\u001b[1m}\u001b[0m, \u001b[32m'saver'\u001b[0m: \u001b[1m{\u001b[0m\u001b[32m'filename'\u001b[0m:    \u001b[2m                                 \u001b[0m\n",
       "\u001b[2;36m           \u001b[0m         \u001b[32m'models/xgboost_models/house_energy'\u001b[0m\u001b[1m}\u001b[0m, \u001b[32m'sweep'\u001b[0m: \u001b[1m{\u001b[0m\u001b[32m'run'\u001b[0m:       \u001b[2m                                 \u001b[0m\n",
       "\u001b[2;36m           \u001b[0m         \u001b[3;91mFalse\u001b[0m, \u001b[32m'split_strategy'\u001b[0m: \u001b[32m'timeseries'\u001b[0m, \u001b[32m'search_algorithm'\u001b[0m:    \u001b[2m                                 \u001b[0m\n",
       "\u001b[2;36m           \u001b[0m         \u001b[32m'bayesian'\u001b[0m, \u001b[32m'num_trials'\u001b[0m: \u001b[1;36m15\u001b[0m, \u001b[32m'scoring_func'\u001b[0m: \u001b[32m'r2'\u001b[0m,           \u001b[2m                                 \u001b[0m\n",
       "\u001b[2;36m           \u001b[0m         \u001b[32m'early_stopping'\u001b[0m: \u001b[3;91mFalse\u001b[0m, \u001b[32m'results_csv_path'\u001b[0m:                  \u001b[2m                                 \u001b[0m\n",
       "\u001b[2;36m           \u001b[0m         \u001b[32m'xgboost_gridsearch/search_results.csv'\u001b[0m, \u001b[32m'params'\u001b[0m:            \u001b[2m                                 \u001b[0m\n",
       "\u001b[2;36m           \u001b[0m         \u001b[1m{\u001b[0m\u001b[32m'estimator__max_depth'\u001b[0m: \u001b[1m[\u001b[0m\u001b[1;36m1\u001b[0m, \u001b[1;36m3\u001b[0m, \u001b[1;36m5\u001b[0m, \u001b[1;36m10\u001b[0m\u001b[1m]\u001b[0m, \u001b[32m'estimator__gamma'\u001b[0m:   \u001b[2m                                 \u001b[0m\n",
       "\u001b[2;36m           \u001b[0m         \u001b[1m[\u001b[0m\u001b[1;36m0\u001b[0m, \u001b[1;36m0.5\u001b[0m, \u001b[1;36m1\u001b[0m, \u001b[1;36m5\u001b[0m\u001b[1m]\u001b[0m, \u001b[32m'estimator__subsample'\u001b[0m: \u001b[1m[\u001b[0m\u001b[1;36m0.1\u001b[0m, \u001b[1;36m0.5\u001b[0m, \u001b[1;36m1\u001b[0m\u001b[1m]\u001b[0m,        \u001b[2m                                 \u001b[0m\n",
       "\u001b[2;36m           \u001b[0m         \u001b[32m'estimator__eta'\u001b[0m: \u001b[1m[\u001b[0m\u001b[1;36m0.3\u001b[0m, \u001b[1;36m0.1\u001b[0m, \u001b[1;36m0.5\u001b[0m\u001b[1m]\u001b[0m\u001b[1m}\u001b[0m\u001b[1m}\u001b[0m\u001b[1m}\u001b[0m, \u001b[32m'simulator'\u001b[0m: \u001b[1m{\u001b[0m\u001b[32m'states'\u001b[0m: \u001b[2m                                 \u001b[0m\n",
       "\u001b[2;36m           \u001b[0m         \u001b[1m[\u001b[0m\u001b[32m'cart_position'\u001b[0m, \u001b[32m'cart_velocity'\u001b[0m, \u001b[32m'pole_angle'\u001b[0m,              \u001b[2m                                 \u001b[0m\n",
       "\u001b[2;36m           \u001b[0m         \u001b[32m'pole_angular_velocity'\u001b[0m\u001b[1m]\u001b[0m, \u001b[32m'actions'\u001b[0m: \u001b[1m[\u001b[0m\u001b[32m'command'\u001b[0m\u001b[1m]\u001b[0m, \u001b[32m'configs'\u001b[0m:  \u001b[2m                                 \u001b[0m\n",
       "\u001b[2;36m           \u001b[0m         \u001b[1m[\u001b[0m\u001b[32m'pole_length'\u001b[0m, \u001b[32m'pole_mass'\u001b[0m, \u001b[32m'cart_mass'\u001b[0m\u001b[1m]\u001b[0m, \u001b[32m'episode_inits'\u001b[0m:   \u001b[2m                                 \u001b[0m\n",
       "\u001b[2;36m           \u001b[0m         \u001b[1m{\u001b[0m\u001b[32m'pole_length'\u001b[0m: \u001b[1;36m0.4\u001b[0m, \u001b[32m'pole_mass'\u001b[0m: \u001b[1;36m0.055\u001b[0m, \u001b[32m'cart_mass'\u001b[0m: \u001b[1;36m0.31\u001b[0m\u001b[1m}\u001b[0m,  \u001b[2m                                 \u001b[0m\n",
       "\u001b[2;36m           \u001b[0m         \u001b[32m'initial_states'\u001b[0m: \u001b[1m{\u001b[0m\u001b[32m'cart_position'\u001b[0m: \u001b[1m{\u001b[0m\u001b[32m'inkling_name'\u001b[0m:          \u001b[2m                                 \u001b[0m\n",
       "\u001b[2;36m           \u001b[0m         \u001b[32m'initial_cart_position'\u001b[0m, \u001b[32m'min'\u001b[0m: \u001b[1;36m-0.05\u001b[0m, \u001b[32m'max'\u001b[0m: \u001b[1;36m0.05\u001b[0m\u001b[1m}\u001b[0m,          \u001b[2m                                 \u001b[0m\n",
       "\u001b[2;36m           \u001b[0m         \u001b[32m'cart_velocity'\u001b[0m: \u001b[1m{\u001b[0m\u001b[32m'inkling_name'\u001b[0m: \u001b[32m'initial_cart_velocity'\u001b[0m,    \u001b[2m                                 \u001b[0m\n",
       "\u001b[2;36m           \u001b[0m         \u001b[32m'min'\u001b[0m: \u001b[1;36m-0.05\u001b[0m, \u001b[32m'max'\u001b[0m: \u001b[1;36m0.05\u001b[0m\u001b[1m}\u001b[0m, \u001b[32m'pole_angle'\u001b[0m: \u001b[1m{\u001b[0m\u001b[32m'inkling_name'\u001b[0m:    \u001b[2m                                 \u001b[0m\n",
       "\u001b[2;36m           \u001b[0m         \u001b[32m'initial_pole_angle'\u001b[0m, \u001b[32m'min'\u001b[0m: \u001b[1;36m-0.05\u001b[0m, \u001b[32m'max'\u001b[0m: \u001b[1;36m0.05\u001b[0m\u001b[1m}\u001b[0m,             \u001b[2m                                 \u001b[0m\n",
       "\u001b[2;36m           \u001b[0m         \u001b[32m'pole_angular_velocity'\u001b[0m: \u001b[1m{\u001b[0m\u001b[32m'inkling_name'\u001b[0m:                     \u001b[2m                                 \u001b[0m\n",
       "\u001b[2;36m           \u001b[0m         \u001b[32m'initial_angular_velocity'\u001b[0m, \u001b[32m'min'\u001b[0m: \u001b[1;36m-0.05\u001b[0m, \u001b[32m'max'\u001b[0m: \u001b[1;36m0.05\u001b[0m\u001b[1m}\u001b[0m\u001b[1m}\u001b[0m,      \u001b[2m                                 \u001b[0m\n",
       "\u001b[2;36m           \u001b[0m         \u001b[32m'signal_builder'\u001b[0m: \u001b[3;35mNone\u001b[0m, \u001b[32m'policy'\u001b[0m: \u001b[32m'bonsai'\u001b[0m, \u001b[32m'logging'\u001b[0m:        \u001b[2m                                 \u001b[0m\n",
       "\u001b[2;36m           \u001b[0m         \u001b[32m'enable'\u001b[0m, \u001b[32m'workspace_setup'\u001b[0m: \u001b[3;92mTrue\u001b[0m\u001b[1m}\u001b[0m\u001b[1m}\u001b[0m                           \u001b[2m                                 \u001b[0m\n"
      ]
     },
     "metadata": {},
     "output_type": "display_data"
    },
    {
     "data": {
      "text/html": [
       "<pre style=\"white-space:pre;overflow-x:auto;line-height:normal;font-family:Menlo,'DejaVu Sans Mono',consolas,'Courier New',monospace\"><span style=\"color: #7fbfbf; text-decoration-color: #7fbfbf\">           </span><span style=\"color: #000080; text-decoration-color: #000080\">INFO    </span> Loading data from csv_data/cartpole_mixed_100k.csv           <a href=\"file://<ipython-input-10-947f7e075198>\" target=\"_blank\"><span style=\"color: #7f7f7f; text-decoration-color: #7f7f7f\">&lt;ipython-input-10-947f7e075198&gt;</span></a><span style=\"color: #7f7f7f; text-decoration-color: #7f7f7f\">:</span><a href=\"file://<ipython-input-10-947f7e075198>#10\" target=\"_blank\"><span style=\"color: #7f7f7f; text-decoration-color: #7f7f7f\">10</span></a>\n",
       "</pre>\n"
      ],
      "text/plain": [
       "\u001b[2;36m          \u001b[0m\u001b[2;36m \u001b[0m\u001b[34mINFO    \u001b[0m Loading data from csv_data/cartpole_mixed_100k.csv           \u001b]8;id=707492;file://<ipython-input-10-947f7e075198>\u001b\\\u001b[2m<ipython-input-10-947f7e075198>\u001b[0m\u001b]8;;\u001b\\\u001b[2m:\u001b[0m\u001b]8;id=93967;file://<ipython-input-10-947f7e075198>#10\u001b\\\u001b[2m10\u001b[0m\u001b]8;;\u001b\\\n"
      ]
     },
     "metadata": {},
     "output_type": "display_data"
    },
    {
     "data": {
      "text/html": [
       "<pre style=\"white-space:pre;overflow-x:auto;line-height:normal;font-family:Menlo,'DejaVu Sans Mono',consolas,'Courier New',monospace\"><span style=\"color: #7fbfbf; text-decoration-color: #7fbfbf\">           </span><span style=\"color: #000080; text-decoration-color: #000080\">INFO    </span> Using <span style=\"font-weight: bold\">[</span><span style=\"color: #008000; text-decoration-color: #008000\">'cart_position'</span>, <span style=\"color: #008000; text-decoration-color: #008000\">'cart_velocity'</span>, <span style=\"color: #008000; text-decoration-color: #008000\">'pole_angle'</span>,                         <a href=\"file:///home/alizaidi/bonsai/datadrivenmodel/dataclass.py\" target=\"_blank\"><span style=\"color: #7f7f7f; text-decoration-color: #7f7f7f\">dataclass.py</span></a><span style=\"color: #7f7f7f; text-decoration-color: #7f7f7f\">:</span><a href=\"file:///home/alizaidi/bonsai/datadrivenmodel/dataclass.py#322\" target=\"_blank\"><span style=\"color: #7f7f7f; text-decoration-color: #7f7f7f\">322</span></a>\n",
       "<span style=\"color: #7fbfbf; text-decoration-color: #7fbfbf\">           </span>         <span style=\"color: #008000; text-decoration-color: #008000\">'pole_angular_velocity'</span>, <span style=\"color: #008000; text-decoration-color: #008000\">'pole_length'</span>, <span style=\"color: #008000; text-decoration-color: #008000\">'pole_mass'</span>, <span style=\"color: #008000; text-decoration-color: #008000\">'cart_mass'</span>, <span style=\"color: #008000; text-decoration-color: #008000\">'command'</span><span style=\"font-weight: bold\">]</span>   <span style=\"color: #7f7f7f; text-decoration-color: #7f7f7f\">                </span>\n",
       "<span style=\"color: #7fbfbf; text-decoration-color: #7fbfbf\">           </span>         as the features for modeling DDM                                               <span style=\"color: #7f7f7f; text-decoration-color: #7f7f7f\">                </span>\n",
       "</pre>\n"
      ],
      "text/plain": [
       "\u001b[2;36m          \u001b[0m\u001b[2;36m \u001b[0m\u001b[34mINFO    \u001b[0m Using \u001b[1m[\u001b[0m\u001b[32m'cart_position'\u001b[0m, \u001b[32m'cart_velocity'\u001b[0m, \u001b[32m'pole_angle'\u001b[0m,                         \u001b]8;id=93122;file:///home/alizaidi/bonsai/datadrivenmodel/dataclass.py\u001b\\\u001b[2mdataclass.py\u001b[0m\u001b]8;;\u001b\\\u001b[2m:\u001b[0m\u001b]8;id=416479;file:///home/alizaidi/bonsai/datadrivenmodel/dataclass.py#322\u001b\\\u001b[2m322\u001b[0m\u001b]8;;\u001b\\\n",
       "\u001b[2;36m           \u001b[0m         \u001b[32m'pole_angular_velocity'\u001b[0m, \u001b[32m'pole_length'\u001b[0m, \u001b[32m'pole_mass'\u001b[0m, \u001b[32m'cart_mass'\u001b[0m, \u001b[32m'command'\u001b[0m\u001b[1m]\u001b[0m   \u001b[2m                \u001b[0m\n",
       "\u001b[2;36m           \u001b[0m         as the features for modeling DDM                                               \u001b[2m                \u001b[0m\n"
      ]
     },
     "metadata": {},
     "output_type": "display_data"
    },
    {
     "data": {
      "text/html": [
       "<pre style=\"white-space:pre;overflow-x:auto;line-height:normal;font-family:Menlo,'DejaVu Sans Mono',consolas,'Courier New',monospace\"><span style=\"color: #7fbfbf; text-decoration-color: #7fbfbf\">           </span><span style=\"color: #000080; text-decoration-color: #000080\">INFO    </span> Using <span style=\"font-weight: bold\">[</span><span style=\"color: #008000; text-decoration-color: #008000\">'cart_position'</span>, <span style=\"color: #008000; text-decoration-color: #008000\">'cart_velocity'</span>, <span style=\"color: #008000; text-decoration-color: #008000\">'pole_angle'</span>,                         <a href=\"file:///home/alizaidi/bonsai/datadrivenmodel/dataclass.py\" target=\"_blank\"><span style=\"color: #7f7f7f; text-decoration-color: #7f7f7f\">dataclass.py</span></a><span style=\"color: #7f7f7f; text-decoration-color: #7f7f7f\">:</span><a href=\"file:///home/alizaidi/bonsai/datadrivenmodel/dataclass.py#333\" target=\"_blank\"><span style=\"color: #7f7f7f; text-decoration-color: #7f7f7f\">333</span></a>\n",
       "<span style=\"color: #7fbfbf; text-decoration-color: #7fbfbf\">           </span>         <span style=\"color: #008000; text-decoration-color: #008000\">'pole_angular_velocity'</span><span style=\"font-weight: bold\">]</span> as the labels for modeling DDM                        <span style=\"color: #7f7f7f; text-decoration-color: #7f7f7f\">                </span>\n",
       "</pre>\n"
      ],
      "text/plain": [
       "\u001b[2;36m          \u001b[0m\u001b[2;36m \u001b[0m\u001b[34mINFO    \u001b[0m Using \u001b[1m[\u001b[0m\u001b[32m'cart_position'\u001b[0m, \u001b[32m'cart_velocity'\u001b[0m, \u001b[32m'pole_angle'\u001b[0m,                         \u001b]8;id=3253;file:///home/alizaidi/bonsai/datadrivenmodel/dataclass.py\u001b\\\u001b[2mdataclass.py\u001b[0m\u001b]8;;\u001b\\\u001b[2m:\u001b[0m\u001b]8;id=426416;file:///home/alizaidi/bonsai/datadrivenmodel/dataclass.py#333\u001b\\\u001b[2m333\u001b[0m\u001b]8;;\u001b\\\n",
       "\u001b[2;36m           \u001b[0m         \u001b[32m'pole_angular_velocity'\u001b[0m\u001b[1m]\u001b[0m as the labels for modeling DDM                        \u001b[2m                \u001b[0m\n"
      ]
     },
     "metadata": {},
     "output_type": "display_data"
    },
    {
     "data": {
      "text/html": [
       "<pre style=\"white-space:pre;overflow-x:auto;line-height:normal;font-family:Menlo,'DejaVu Sans Mono',consolas,'Courier New',monospace\"><span style=\"color: #7fbfbf; text-decoration-color: #7fbfbf\">           </span><span style=\"color: #000080; text-decoration-color: #000080\">INFO    </span> Iteration order set to <span style=\"color: #008080; text-decoration-color: #008080; font-weight: bold\">-1</span> so using inputs from previous <span style=\"color: #008080; text-decoration-color: #008080; font-weight: bold\">-1</span> row                  <a href=\"file:///home/alizaidi/bonsai/datadrivenmodel/dataclass.py\" target=\"_blank\"><span style=\"color: #7f7f7f; text-decoration-color: #7f7f7f\">dataclass.py</span></a><span style=\"color: #7f7f7f; text-decoration-color: #7f7f7f\">:</span><a href=\"file:///home/alizaidi/bonsai/datadrivenmodel/dataclass.py#86\" target=\"_blank\"><span style=\"color: #7f7f7f; text-decoration-color: #7f7f7f\">86</span></a>\n",
       "</pre>\n"
      ],
      "text/plain": [
       "\u001b[2;36m          \u001b[0m\u001b[2;36m \u001b[0m\u001b[34mINFO    \u001b[0m Iteration order set to \u001b[1;36m-1\u001b[0m so using inputs from previous \u001b[1;36m-1\u001b[0m row                  \u001b]8;id=175098;file:///home/alizaidi/bonsai/datadrivenmodel/dataclass.py\u001b\\\u001b[2mdataclass.py\u001b[0m\u001b]8;;\u001b\\\u001b[2m:\u001b[0m\u001b]8;id=44123;file:///home/alizaidi/bonsai/datadrivenmodel/dataclass.py#86\u001b\\\u001b[2m86\u001b[0m\u001b]8;;\u001b\\\n"
      ]
     },
     "metadata": {},
     "output_type": "display_data"
    },
    {
     "name": "stderr",
     "output_type": "stream",
     "text": [
      "/anaconda/envs/ddm/lib/python3.7/site-packages/pandas/core/frame.py:3641: SettingWithCopyWarning: \n",
      "A value is trying to be set on a copy of a slice from a DataFrame.\n",
      "Try using .loc[row_indexer,col_indexer] = value instead\n",
      "\n",
      "See the caveats in the documentation: https://pandas.pydata.org/pandas-docs/stable/user_guide/indexing.html#returning-a-view-versus-a-copy\n",
      "  self[k1] = value[k2]\n"
     ]
    },
    {
     "data": {
      "text/html": [
       "<pre style=\"white-space:pre;overflow-x:auto;line-height:normal;font-family:Menlo,'DejaVu Sans Mono',consolas,'Courier New',monospace\"><span style=\"color: #7fbfbf; text-decoration-color: #7fbfbf\">           </span><span style=\"color: #000080; text-decoration-color: #000080\">INFO    </span> Feature columns are: <span style=\"font-weight: bold\">[</span><span style=\"color: #008000; text-decoration-color: #008000\">'prev_cart_position'</span>, <span style=\"color: #008000; text-decoration-color: #008000\">'prev_cart_velocity'</span>,              <a href=\"file:///home/alizaidi/bonsai/datadrivenmodel/dataclass.py\" target=\"_blank\"><span style=\"color: #7f7f7f; text-decoration-color: #7f7f7f\">dataclass.py</span></a><span style=\"color: #7f7f7f; text-decoration-color: #7f7f7f\">:</span><a href=\"file:///home/alizaidi/bonsai/datadrivenmodel/dataclass.py#128\" target=\"_blank\"><span style=\"color: #7f7f7f; text-decoration-color: #7f7f7f\">128</span></a>\n",
       "<span style=\"color: #7fbfbf; text-decoration-color: #7fbfbf\">           </span>         <span style=\"color: #008000; text-decoration-color: #008000\">'prev_pole_angle'</span>, <span style=\"color: #008000; text-decoration-color: #008000\">'prev_pole_angular_velocity'</span>, <span style=\"color: #008000; text-decoration-color: #008000\">'pole_length'</span>, <span style=\"color: #008000; text-decoration-color: #008000\">'pole_mass'</span>,   <span style=\"color: #7f7f7f; text-decoration-color: #7f7f7f\">                </span>\n",
       "<span style=\"color: #7fbfbf; text-decoration-color: #7fbfbf\">           </span>         <span style=\"color: #008000; text-decoration-color: #008000\">'cart_mass'</span>, <span style=\"color: #008000; text-decoration-color: #008000\">'command'</span><span style=\"font-weight: bold\">]</span>                                                        <span style=\"color: #7f7f7f; text-decoration-color: #7f7f7f\">                </span>\n",
       "</pre>\n"
      ],
      "text/plain": [
       "\u001b[2;36m          \u001b[0m\u001b[2;36m \u001b[0m\u001b[34mINFO    \u001b[0m Feature columns are: \u001b[1m[\u001b[0m\u001b[32m'prev_cart_position'\u001b[0m, \u001b[32m'prev_cart_velocity'\u001b[0m,              \u001b]8;id=530150;file:///home/alizaidi/bonsai/datadrivenmodel/dataclass.py\u001b\\\u001b[2mdataclass.py\u001b[0m\u001b]8;;\u001b\\\u001b[2m:\u001b[0m\u001b]8;id=208090;file:///home/alizaidi/bonsai/datadrivenmodel/dataclass.py#128\u001b\\\u001b[2m128\u001b[0m\u001b]8;;\u001b\\\n",
       "\u001b[2;36m           \u001b[0m         \u001b[32m'prev_pole_angle'\u001b[0m, \u001b[32m'prev_pole_angular_velocity'\u001b[0m, \u001b[32m'pole_length'\u001b[0m, \u001b[32m'pole_mass'\u001b[0m,   \u001b[2m                \u001b[0m\n",
       "\u001b[2;36m           \u001b[0m         \u001b[32m'cart_mass'\u001b[0m, \u001b[32m'command'\u001b[0m\u001b[1m]\u001b[0m                                                        \u001b[2m                \u001b[0m\n"
      ]
     },
     "metadata": {},
     "output_type": "display_data"
    },
    {
     "data": {
      "text/html": [
       "<pre style=\"white-space:pre;overflow-x:auto;line-height:normal;font-family:Menlo,'DejaVu Sans Mono',consolas,'Courier New',monospace\"><span style=\"color: #7fbfbf; text-decoration-color: #7fbfbf\">[18:25:54] </span><span style=\"color: #000080; text-decoration-color: #000080\">INFO    </span> Label columns are: <span style=\"font-weight: bold\">[</span><span style=\"color: #008000; text-decoration-color: #008000\">'cart_position'</span>, <span style=\"color: #008000; text-decoration-color: #008000\">'cart_velocity'</span>, <span style=\"color: #008000; text-decoration-color: #008000\">'pole_angle'</span>,            <a href=\"file:///home/alizaidi/bonsai/datadrivenmodel/dataclass.py\" target=\"_blank\"><span style=\"color: #7f7f7f; text-decoration-color: #7f7f7f\">dataclass.py</span></a><span style=\"color: #7f7f7f; text-decoration-color: #7f7f7f\">:</span><a href=\"file:///home/alizaidi/bonsai/datadrivenmodel/dataclass.py#129\" target=\"_blank\"><span style=\"color: #7f7f7f; text-decoration-color: #7f7f7f\">129</span></a>\n",
       "<span style=\"color: #7fbfbf; text-decoration-color: #7fbfbf\">           </span>         <span style=\"color: #008000; text-decoration-color: #008000\">'pole_angular_velocity'</span><span style=\"font-weight: bold\">]</span>                                                       <span style=\"color: #7f7f7f; text-decoration-color: #7f7f7f\">                </span>\n",
       "</pre>\n"
      ],
      "text/plain": [
       "\u001b[2;36m[18:25:54]\u001b[0m\u001b[2;36m \u001b[0m\u001b[34mINFO    \u001b[0m Label columns are: \u001b[1m[\u001b[0m\u001b[32m'cart_position'\u001b[0m, \u001b[32m'cart_velocity'\u001b[0m, \u001b[32m'pole_angle'\u001b[0m,            \u001b]8;id=447498;file:///home/alizaidi/bonsai/datadrivenmodel/dataclass.py\u001b\\\u001b[2mdataclass.py\u001b[0m\u001b]8;;\u001b\\\u001b[2m:\u001b[0m\u001b]8;id=315497;file:///home/alizaidi/bonsai/datadrivenmodel/dataclass.py#129\u001b\\\u001b[2m129\u001b[0m\u001b]8;;\u001b\\\n",
       "\u001b[2;36m           \u001b[0m         \u001b[32m'pole_angular_velocity'\u001b[0m\u001b[1m]\u001b[0m                                                       \u001b[2m                \u001b[0m\n"
      ]
     },
     "metadata": {},
     "output_type": "display_data"
    },
    {
     "data": {
      "text/html": [
       "<pre style=\"white-space:pre;overflow-x:auto;line-height:normal;font-family:Menlo,'DejaVu Sans Mono',consolas,'Courier New',monospace\"><span style=\"color: #7fbfbf; text-decoration-color: #7fbfbf\">           </span><span style=\"color: #000080; text-decoration-color: #000080\">INFO    </span> Trimmed DataFrame across episodes. found <span style=\"font-weight: bold\">(</span><span style=\"color: #008080; text-decoration-color: #008080; font-weight: bold\">294</span><span style=\"font-weight: bold\">)</span> episodes.                       <a href=\"file:///home/alizaidi/bonsai/datadrivenmodel/dataclass.py\" target=\"_blank\"><span style=\"color: #7f7f7f; text-decoration-color: #7f7f7f\">dataclass.py</span></a><span style=\"color: #7f7f7f; text-decoration-color: #7f7f7f\">:</span><a href=\"file:///home/alizaidi/bonsai/datadrivenmodel/dataclass.py#416\" target=\"_blank\"><span style=\"color: #7f7f7f; text-decoration-color: #7f7f7f\">416</span></a>\n",
       "</pre>\n"
      ],
      "text/plain": [
       "\u001b[2;36m          \u001b[0m\u001b[2;36m \u001b[0m\u001b[34mINFO    \u001b[0m Trimmed DataFrame across episodes. found \u001b[1m(\u001b[0m\u001b[1;36m294\u001b[0m\u001b[1m)\u001b[0m episodes.                       \u001b]8;id=953;file:///home/alizaidi/bonsai/datadrivenmodel/dataclass.py\u001b\\\u001b[2mdataclass.py\u001b[0m\u001b]8;;\u001b\\\u001b[2m:\u001b[0m\u001b]8;id=957586;file:///home/alizaidi/bonsai/datadrivenmodel/dataclass.py#416\u001b\\\u001b[2m416\u001b[0m\u001b]8;;\u001b\\\n"
      ]
     },
     "metadata": {},
     "output_type": "display_data"
    },
    {
     "data": {
      "text/html": [
       "<pre style=\"white-space:pre;overflow-x:auto;line-height:normal;font-family:Menlo,'DejaVu Sans Mono',consolas,'Courier New',monospace\"><span style=\"color: #7fbfbf; text-decoration-color: #7fbfbf\">           </span><span style=\"color: #000080; text-decoration-color: #000080\">INFO    </span> Using previous <span style=\"color: #008080; text-decoration-color: #008080; font-weight: bold\">5</span> lags for all features as inputs and using padding: <span style=\"color: #00ff00; text-decoration-color: #00ff00; font-style: italic\">True</span>       <a href=\"file:///home/alizaidi/bonsai/datadrivenmodel/dataclass.py\" target=\"_blank\"><span style=\"color: #7f7f7f; text-decoration-color: #7f7f7f\">dataclass.py</span></a><span style=\"color: #7f7f7f; text-decoration-color: #7f7f7f\">:</span><a href=\"file:///home/alizaidi/bonsai/datadrivenmodel/dataclass.py#371\" target=\"_blank\"><span style=\"color: #7f7f7f; text-decoration-color: #7f7f7f\">371</span></a>\n",
       "</pre>\n"
      ],
      "text/plain": [
       "\u001b[2;36m          \u001b[0m\u001b[2;36m \u001b[0m\u001b[34mINFO    \u001b[0m Using previous \u001b[1;36m5\u001b[0m lags for all features as inputs and using padding: \u001b[3;92mTrue\u001b[0m       \u001b]8;id=171488;file:///home/alizaidi/bonsai/datadrivenmodel/dataclass.py\u001b\\\u001b[2mdataclass.py\u001b[0m\u001b]8;;\u001b\\\u001b[2m:\u001b[0m\u001b]8;id=586072;file:///home/alizaidi/bonsai/datadrivenmodel/dataclass.py#371\u001b\\\u001b[2m371\u001b[0m\u001b]8;;\u001b\\\n"
      ]
     },
     "metadata": {},
     "output_type": "display_data"
    },
    {
     "data": {
      "text/html": [
       "<pre style=\"white-space:pre;overflow-x:auto;line-height:normal;font-family:Menlo,'DejaVu Sans Mono',consolas,'Courier New',monospace\"><span style=\"color: #7fbfbf; text-decoration-color: #7fbfbf\">           </span><span style=\"color: #000080; text-decoration-color: #000080\">INFO    </span> Features after incorporating lagged features: <span style=\"font-weight: bold\">[</span><span style=\"color: #008000; text-decoration-color: #008000\">'pole_length'</span>, <span style=\"color: #008000; text-decoration-color: #008000\">'pole_mass'</span>,     <a href=\"file:///home/alizaidi/bonsai/datadrivenmodel/dataclass.py\" target=\"_blank\"><span style=\"color: #7f7f7f; text-decoration-color: #7f7f7f\">dataclass.py</span></a><span style=\"color: #7f7f7f; text-decoration-color: #7f7f7f\">:</span><a href=\"file:///home/alizaidi/bonsai/datadrivenmodel/dataclass.py#859\" target=\"_blank\"><span style=\"color: #7f7f7f; text-decoration-color: #7f7f7f\">859</span></a>\n",
       "<span style=\"color: #7fbfbf; text-decoration-color: #7fbfbf\">           </span>         <span style=\"color: #008000; text-decoration-color: #008000\">'cart_mass'</span>, <span style=\"color: #008000; text-decoration-color: #008000\">'command_1'</span>, <span style=\"color: #008000; text-decoration-color: #008000\">'command_2'</span>, <span style=\"color: #008000; text-decoration-color: #008000\">'command_3'</span>, <span style=\"color: #008000; text-decoration-color: #008000\">'command_4'</span>,               <span style=\"color: #7f7f7f; text-decoration-color: #7f7f7f\">                </span>\n",
       "<span style=\"color: #7fbfbf; text-decoration-color: #7fbfbf\">           </span>         <span style=\"color: #008000; text-decoration-color: #008000\">'prev_cart_position_1'</span>, <span style=\"color: #008000; text-decoration-color: #008000\">'prev_cart_position_2'</span>, <span style=\"color: #008000; text-decoration-color: #008000\">'prev_cart_velocity_1'</span>,        <span style=\"color: #7f7f7f; text-decoration-color: #7f7f7f\">                </span>\n",
       "<span style=\"color: #7fbfbf; text-decoration-color: #7fbfbf\">           </span>         <span style=\"color: #008000; text-decoration-color: #008000\">'prev_cart_velocity_2'</span>, <span style=\"color: #008000; text-decoration-color: #008000\">'prev_pole_angle_1'</span>, <span style=\"color: #008000; text-decoration-color: #008000\">'prev_pole_angle_2'</span>,              <span style=\"color: #7f7f7f; text-decoration-color: #7f7f7f\">                </span>\n",
       "<span style=\"color: #7fbfbf; text-decoration-color: #7fbfbf\">           </span>         <span style=\"color: #008000; text-decoration-color: #008000\">'prev_pole_angle_3'</span>, <span style=\"color: #008000; text-decoration-color: #008000\">'prev_pole_angular_velocity_1'</span>,                           <span style=\"color: #7f7f7f; text-decoration-color: #7f7f7f\">                </span>\n",
       "<span style=\"color: #7fbfbf; text-decoration-color: #7fbfbf\">           </span>         <span style=\"color: #008000; text-decoration-color: #008000\">'prev_pole_angular_velocity_2'</span>, <span style=\"color: #008000; text-decoration-color: #008000\">'prev_pole_angular_velocity_3'</span>,                <span style=\"color: #7f7f7f; text-decoration-color: #7f7f7f\">                </span>\n",
       "<span style=\"color: #7fbfbf; text-decoration-color: #7fbfbf\">           </span>         <span style=\"color: #008000; text-decoration-color: #008000\">'prev_pole_angular_velocity_4'</span>, <span style=\"color: #008000; text-decoration-color: #008000\">'prev_pole_angular_velocity_5'</span>,                <span style=\"color: #7f7f7f; text-decoration-color: #7f7f7f\">                </span>\n",
       "<span style=\"color: #7fbfbf; text-decoration-color: #7fbfbf\">           </span>         <span style=\"color: #008000; text-decoration-color: #008000\">'prev_pole_angular_velocity_6'</span>, <span style=\"color: #008000; text-decoration-color: #008000\">'prev_pole_angular_velocity_7'</span>,                <span style=\"color: #7f7f7f; text-decoration-color: #7f7f7f\">                </span>\n",
       "<span style=\"color: #7fbfbf; text-decoration-color: #7fbfbf\">           </span>         <span style=\"color: #008000; text-decoration-color: #008000\">'prev_pole_angular_velocity_8'</span>, <span style=\"color: #008000; text-decoration-color: #008000\">'prev_pole_angular_velocity_9'</span>,                <span style=\"color: #7f7f7f; text-decoration-color: #7f7f7f\">                </span>\n",
       "<span style=\"color: #7fbfbf; text-decoration-color: #7fbfbf\">           </span>         <span style=\"color: #008000; text-decoration-color: #008000\">'prev_pole_angular_velocity_10'</span><span style=\"font-weight: bold\">]</span>                                               <span style=\"color: #7f7f7f; text-decoration-color: #7f7f7f\">                </span>\n",
       "</pre>\n"
      ],
      "text/plain": [
       "\u001b[2;36m          \u001b[0m\u001b[2;36m \u001b[0m\u001b[34mINFO    \u001b[0m Features after incorporating lagged features: \u001b[1m[\u001b[0m\u001b[32m'pole_length'\u001b[0m, \u001b[32m'pole_mass'\u001b[0m,     \u001b]8;id=287637;file:///home/alizaidi/bonsai/datadrivenmodel/dataclass.py\u001b\\\u001b[2mdataclass.py\u001b[0m\u001b]8;;\u001b\\\u001b[2m:\u001b[0m\u001b]8;id=139585;file:///home/alizaidi/bonsai/datadrivenmodel/dataclass.py#859\u001b\\\u001b[2m859\u001b[0m\u001b]8;;\u001b\\\n",
       "\u001b[2;36m           \u001b[0m         \u001b[32m'cart_mass'\u001b[0m, \u001b[32m'command_1'\u001b[0m, \u001b[32m'command_2'\u001b[0m, \u001b[32m'command_3'\u001b[0m, \u001b[32m'command_4'\u001b[0m,               \u001b[2m                \u001b[0m\n",
       "\u001b[2;36m           \u001b[0m         \u001b[32m'prev_cart_position_1'\u001b[0m, \u001b[32m'prev_cart_position_2'\u001b[0m, \u001b[32m'prev_cart_velocity_1'\u001b[0m,        \u001b[2m                \u001b[0m\n",
       "\u001b[2;36m           \u001b[0m         \u001b[32m'prev_cart_velocity_2'\u001b[0m, \u001b[32m'prev_pole_angle_1'\u001b[0m, \u001b[32m'prev_pole_angle_2'\u001b[0m,              \u001b[2m                \u001b[0m\n",
       "\u001b[2;36m           \u001b[0m         \u001b[32m'prev_pole_angle_3'\u001b[0m, \u001b[32m'prev_pole_angular_velocity_1'\u001b[0m,                           \u001b[2m                \u001b[0m\n",
       "\u001b[2;36m           \u001b[0m         \u001b[32m'prev_pole_angular_velocity_2'\u001b[0m, \u001b[32m'prev_pole_angular_velocity_3'\u001b[0m,                \u001b[2m                \u001b[0m\n",
       "\u001b[2;36m           \u001b[0m         \u001b[32m'prev_pole_angular_velocity_4'\u001b[0m, \u001b[32m'prev_pole_angular_velocity_5'\u001b[0m,                \u001b[2m                \u001b[0m\n",
       "\u001b[2;36m           \u001b[0m         \u001b[32m'prev_pole_angular_velocity_6'\u001b[0m, \u001b[32m'prev_pole_angular_velocity_7'\u001b[0m,                \u001b[2m                \u001b[0m\n",
       "\u001b[2;36m           \u001b[0m         \u001b[32m'prev_pole_angular_velocity_8'\u001b[0m, \u001b[32m'prev_pole_angular_velocity_9'\u001b[0m,                \u001b[2m                \u001b[0m\n",
       "\u001b[2;36m           \u001b[0m         \u001b[32m'prev_pole_angular_velocity_10'\u001b[0m\u001b[1m]\u001b[0m                                               \u001b[2m                \u001b[0m\n"
      ]
     },
     "metadata": {},
     "output_type": "display_data"
    },
    {
     "data": {
      "text/html": [
       "<pre style=\"white-space:pre;overflow-x:auto;line-height:normal;font-family:Menlo,'DejaVu Sans Mono',consolas,'Courier New',monospace\"><span style=\"color: #7fbfbf; text-decoration-color: #7fbfbf\">[18:25:56] </span><span style=\"color: #000080; text-decoration-color: #000080\">INFO    </span> Divided train &amp; test set with <span style=\"font-weight: bold\">(</span><span style=\"color: #008080; text-decoration-color: #008080; font-weight: bold\">37263</span><span style=\"font-weight: bold\">)</span> and <span style=\"font-weight: bold\">(</span><span style=\"color: #008080; text-decoration-color: #008080; font-weight: bold\">12443</span><span style=\"font-weight: bold\">)</span> iterations, respectively.    <a href=\"file:///home/alizaidi/bonsai/datadrivenmodel/dataclass.py\" target=\"_blank\"><span style=\"color: #7f7f7f; text-decoration-color: #7f7f7f\">dataclass.py</span></a><span style=\"color: #7f7f7f; text-decoration-color: #7f7f7f\">:</span><a href=\"file:///home/alizaidi/bonsai/datadrivenmodel/dataclass.py#462\" target=\"_blank\"><span style=\"color: #7f7f7f; text-decoration-color: #7f7f7f\">462</span></a>\n",
       "<span style=\"color: #7fbfbf; text-decoration-color: #7fbfbf\">           </span>         Chosen split == <span style=\"color: #008080; text-decoration-color: #008080; font-weight: bold\">75.0</span>%.                                                         <span style=\"color: #7f7f7f; text-decoration-color: #7f7f7f\">                </span>\n",
       "<span style=\"color: #7fbfbf; text-decoration-color: #7fbfbf\">           </span>            &gt;&gt; Average episode length: <span style=\"font-weight: bold\">(</span><span style=\"color: #008080; text-decoration-color: #008080; font-weight: bold\">169.06802721088437</span><span style=\"font-weight: bold\">)</span>. Average std dev:           <span style=\"color: #7f7f7f; text-decoration-color: #7f7f7f\">                </span>\n",
       "<span style=\"color: #7fbfbf; text-decoration-color: #7fbfbf\">           </span>         <span style=\"font-weight: bold\">(</span><span style=\"color: #008080; text-decoration-color: #008080; font-weight: bold\">93.5469368066321</span><span style=\"font-weight: bold\">)</span>                                                             <span style=\"color: #7f7f7f; text-decoration-color: #7f7f7f\">                </span>\n",
       "</pre>\n"
      ],
      "text/plain": [
       "\u001b[2;36m[18:25:56]\u001b[0m\u001b[2;36m \u001b[0m\u001b[34mINFO    \u001b[0m Divided train & test set with \u001b[1m(\u001b[0m\u001b[1;36m37263\u001b[0m\u001b[1m)\u001b[0m and \u001b[1m(\u001b[0m\u001b[1;36m12443\u001b[0m\u001b[1m)\u001b[0m iterations, respectively.    \u001b]8;id=885992;file:///home/alizaidi/bonsai/datadrivenmodel/dataclass.py\u001b\\\u001b[2mdataclass.py\u001b[0m\u001b]8;;\u001b\\\u001b[2m:\u001b[0m\u001b]8;id=222687;file:///home/alizaidi/bonsai/datadrivenmodel/dataclass.py#462\u001b\\\u001b[2m462\u001b[0m\u001b]8;;\u001b\\\n",
       "\u001b[2;36m           \u001b[0m         Chosen split == \u001b[1;36m75.0\u001b[0m%.                                                         \u001b[2m                \u001b[0m\n",
       "\u001b[2;36m           \u001b[0m            >> Average episode length: \u001b[1m(\u001b[0m\u001b[1;36m169.06802721088437\u001b[0m\u001b[1m)\u001b[0m. Average std dev:           \u001b[2m                \u001b[0m\n",
       "\u001b[2;36m           \u001b[0m         \u001b[1m(\u001b[0m\u001b[1;36m93.5469368066321\u001b[0m\u001b[1m)\u001b[0m                                                             \u001b[2m                \u001b[0m\n"
      ]
     },
     "metadata": {},
     "output_type": "display_data"
    },
    {
     "data": {
      "text/html": [
       "<pre style=\"white-space:pre;overflow-x:auto;line-height:normal;font-family:Menlo,'DejaVu Sans Mono',consolas,'Courier New',monospace\"><span style=\"color: #7fbfbf; text-decoration-color: #7fbfbf\">           </span><span style=\"color: #000080; text-decoration-color: #000080\">INFO    </span> Features: <span style=\"font-weight: bold\">[</span><span style=\"color: #008000; text-decoration-color: #008000\">'pole_length'</span>, <span style=\"color: #008000; text-decoration-color: #008000\">'pole_mass'</span>, <span style=\"color: #008000; text-decoration-color: #008000\">'cart_mass'</span>, <span style=\"color: #008000; text-decoration-color: #008000\">'command_1'</span>, <span style=\"color: #008000; text-decoration-color: #008000\">'command_2'</span>,  <a href=\"file:///home/alizaidi/bonsai/datadrivenmodel/dataclass.py\" target=\"_blank\"><span style=\"color: #7f7f7f; text-decoration-color: #7f7f7f\">dataclass.py</span></a><span style=\"color: #7f7f7f; text-decoration-color: #7f7f7f\">:</span><a href=\"file:///home/alizaidi/bonsai/datadrivenmodel/dataclass.py#544\" target=\"_blank\"><span style=\"color: #7f7f7f; text-decoration-color: #7f7f7f\">544</span></a>\n",
       "<span style=\"color: #7fbfbf; text-decoration-color: #7fbfbf\">           </span>         <span style=\"color: #008000; text-decoration-color: #008000\">'command_3'</span>, <span style=\"color: #008000; text-decoration-color: #008000\">'command_4'</span>, <span style=\"color: #008000; text-decoration-color: #008000\">'prev_cart_position_1'</span>, <span style=\"color: #008000; text-decoration-color: #008000\">'prev_cart_position_2'</span>,      <span style=\"color: #7f7f7f; text-decoration-color: #7f7f7f\">                </span>\n",
       "<span style=\"color: #7fbfbf; text-decoration-color: #7fbfbf\">           </span>         <span style=\"color: #008000; text-decoration-color: #008000\">'prev_cart_velocity_1'</span>, <span style=\"color: #008000; text-decoration-color: #008000\">'prev_cart_velocity_2'</span>, <span style=\"color: #008000; text-decoration-color: #008000\">'prev_pole_angle_1'</span>,           <span style=\"color: #7f7f7f; text-decoration-color: #7f7f7f\">                </span>\n",
       "<span style=\"color: #7fbfbf; text-decoration-color: #7fbfbf\">           </span>         <span style=\"color: #008000; text-decoration-color: #008000\">'prev_pole_angle_2'</span>, <span style=\"color: #008000; text-decoration-color: #008000\">'prev_pole_angle_3'</span>, <span style=\"color: #008000; text-decoration-color: #008000\">'prev_pole_angular_velocity_1'</span>,      <span style=\"color: #7f7f7f; text-decoration-color: #7f7f7f\">                </span>\n",
       "<span style=\"color: #7fbfbf; text-decoration-color: #7fbfbf\">           </span>         <span style=\"color: #008000; text-decoration-color: #008000\">'prev_pole_angular_velocity_2'</span>, <span style=\"color: #008000; text-decoration-color: #008000\">'prev_pole_angular_velocity_3'</span>,                <span style=\"color: #7f7f7f; text-decoration-color: #7f7f7f\">                </span>\n",
       "<span style=\"color: #7fbfbf; text-decoration-color: #7fbfbf\">           </span>         <span style=\"color: #008000; text-decoration-color: #008000\">'prev_pole_angular_velocity_4'</span>, <span style=\"color: #008000; text-decoration-color: #008000\">'prev_pole_angular_velocity_5'</span>,                <span style=\"color: #7f7f7f; text-decoration-color: #7f7f7f\">                </span>\n",
       "<span style=\"color: #7fbfbf; text-decoration-color: #7fbfbf\">           </span>         <span style=\"color: #008000; text-decoration-color: #008000\">'prev_pole_angular_velocity_6'</span>, <span style=\"color: #008000; text-decoration-color: #008000\">'prev_pole_angular_velocity_7'</span>,                <span style=\"color: #7f7f7f; text-decoration-color: #7f7f7f\">                </span>\n",
       "<span style=\"color: #7fbfbf; text-decoration-color: #7fbfbf\">           </span>         <span style=\"color: #008000; text-decoration-color: #008000\">'prev_pole_angular_velocity_8'</span>, <span style=\"color: #008000; text-decoration-color: #008000\">'prev_pole_angular_velocity_9'</span>,                <span style=\"color: #7f7f7f; text-decoration-color: #7f7f7f\">                </span>\n",
       "<span style=\"color: #7fbfbf; text-decoration-color: #7fbfbf\">           </span>         <span style=\"color: #008000; text-decoration-color: #008000\">'prev_pole_angular_velocity_10'</span><span style=\"font-weight: bold\">]</span>                                               <span style=\"color: #7f7f7f; text-decoration-color: #7f7f7f\">                </span>\n",
       "</pre>\n"
      ],
      "text/plain": [
       "\u001b[2;36m          \u001b[0m\u001b[2;36m \u001b[0m\u001b[34mINFO    \u001b[0m Features: \u001b[1m[\u001b[0m\u001b[32m'pole_length'\u001b[0m, \u001b[32m'pole_mass'\u001b[0m, \u001b[32m'cart_mass'\u001b[0m, \u001b[32m'command_1'\u001b[0m, \u001b[32m'command_2'\u001b[0m,  \u001b]8;id=467602;file:///home/alizaidi/bonsai/datadrivenmodel/dataclass.py\u001b\\\u001b[2mdataclass.py\u001b[0m\u001b]8;;\u001b\\\u001b[2m:\u001b[0m\u001b]8;id=511892;file:///home/alizaidi/bonsai/datadrivenmodel/dataclass.py#544\u001b\\\u001b[2m544\u001b[0m\u001b]8;;\u001b\\\n",
       "\u001b[2;36m           \u001b[0m         \u001b[32m'command_3'\u001b[0m, \u001b[32m'command_4'\u001b[0m, \u001b[32m'prev_cart_position_1'\u001b[0m, \u001b[32m'prev_cart_position_2'\u001b[0m,      \u001b[2m                \u001b[0m\n",
       "\u001b[2;36m           \u001b[0m         \u001b[32m'prev_cart_velocity_1'\u001b[0m, \u001b[32m'prev_cart_velocity_2'\u001b[0m, \u001b[32m'prev_pole_angle_1'\u001b[0m,           \u001b[2m                \u001b[0m\n",
       "\u001b[2;36m           \u001b[0m         \u001b[32m'prev_pole_angle_2'\u001b[0m, \u001b[32m'prev_pole_angle_3'\u001b[0m, \u001b[32m'prev_pole_angular_velocity_1'\u001b[0m,      \u001b[2m                \u001b[0m\n",
       "\u001b[2;36m           \u001b[0m         \u001b[32m'prev_pole_angular_velocity_2'\u001b[0m, \u001b[32m'prev_pole_angular_velocity_3'\u001b[0m,                \u001b[2m                \u001b[0m\n",
       "\u001b[2;36m           \u001b[0m         \u001b[32m'prev_pole_angular_velocity_4'\u001b[0m, \u001b[32m'prev_pole_angular_velocity_5'\u001b[0m,                \u001b[2m                \u001b[0m\n",
       "\u001b[2;36m           \u001b[0m         \u001b[32m'prev_pole_angular_velocity_6'\u001b[0m, \u001b[32m'prev_pole_angular_velocity_7'\u001b[0m,                \u001b[2m                \u001b[0m\n",
       "\u001b[2;36m           \u001b[0m         \u001b[32m'prev_pole_angular_velocity_8'\u001b[0m, \u001b[32m'prev_pole_angular_velocity_9'\u001b[0m,                \u001b[2m                \u001b[0m\n",
       "\u001b[2;36m           \u001b[0m         \u001b[32m'prev_pole_angular_velocity_10'\u001b[0m\u001b[1m]\u001b[0m                                               \u001b[2m                \u001b[0m\n"
      ]
     },
     "metadata": {},
     "output_type": "display_data"
    },
    {
     "data": {
      "text/html": [
       "<pre style=\"white-space:pre;overflow-x:auto;line-height:normal;font-family:Menlo,'DejaVu Sans Mono',consolas,'Courier New',monospace\"><span style=\"color: #7fbfbf; text-decoration-color: #7fbfbf\">           </span><span style=\"color: #000080; text-decoration-color: #000080\">INFO    </span> Fitting model<span style=\"color: #808000; text-decoration-color: #808000\">...</span>                                             <a href=\"file://<ipython-input-10-947f7e075198>\" target=\"_blank\"><span style=\"color: #7f7f7f; text-decoration-color: #7f7f7f\">&lt;ipython-input-10-947f7e075198&gt;</span></a><span style=\"color: #7f7f7f; text-decoration-color: #7f7f7f\">:</span><a href=\"file://<ipython-input-10-947f7e075198>#28\" target=\"_blank\"><span style=\"color: #7f7f7f; text-decoration-color: #7f7f7f\">28</span></a>\n",
       "</pre>\n"
      ],
      "text/plain": [
       "\u001b[2;36m          \u001b[0m\u001b[2;36m \u001b[0m\u001b[34mINFO    \u001b[0m Fitting model\u001b[33m...\u001b[0m                                             \u001b]8;id=43583;file://<ipython-input-10-947f7e075198>\u001b\\\u001b[2m<ipython-input-10-947f7e075198>\u001b[0m\u001b]8;;\u001b\\\u001b[2m:\u001b[0m\u001b]8;id=567585;file://<ipython-input-10-947f7e075198>#28\u001b\\\u001b[2m28\u001b[0m\u001b]8;;\u001b\\\n"
      ]
     },
     "metadata": {},
     "output_type": "display_data"
    },
    {
     "name": "stderr",
     "output_type": "stream",
     "text": [
      "/anaconda/envs/ddm/lib/python3.7/site-packages/xgboost/data.py:106: UserWarning: Use subset (sliced data) of np.ndarray is not recommended because it will generate extra copies and increase memory consumption\n",
      "  \"because it will generate extra copies and increase \" +\n"
     ]
    },
    {
     "data": {
      "text/html": [
       "<pre style=\"white-space:pre;overflow-x:auto;line-height:normal;font-family:Menlo,'DejaVu Sans Mono',consolas,'Courier New',monospace\"><span style=\"color: #7fbfbf; text-decoration-color: #7fbfbf\">[18:26:08] </span><span style=\"color: #000080; text-decoration-color: #000080\">INFO    </span> Model trained!                                               <a href=\"file://<ipython-input-10-947f7e075198>\" target=\"_blank\"><span style=\"color: #7f7f7f; text-decoration-color: #7f7f7f\">&lt;ipython-input-10-947f7e075198&gt;</span></a><span style=\"color: #7f7f7f; text-decoration-color: #7f7f7f\">:</span><a href=\"file://<ipython-input-10-947f7e075198>#30\" target=\"_blank\"><span style=\"color: #7f7f7f; text-decoration-color: #7f7f7f\">30</span></a>\n",
       "</pre>\n"
      ],
      "text/plain": [
       "\u001b[2;36m[18:26:08]\u001b[0m\u001b[2;36m \u001b[0m\u001b[34mINFO    \u001b[0m Model trained!                                               \u001b]8;id=115658;file://<ipython-input-10-947f7e075198>\u001b\\\u001b[2m<ipython-input-10-947f7e075198>\u001b[0m\u001b]8;;\u001b\\\u001b[2m:\u001b[0m\u001b]8;id=400913;file://<ipython-input-10-947f7e075198>#30\u001b\\\u001b[2m30\u001b[0m\u001b]8;;\u001b\\\n"
      ]
     },
     "metadata": {},
     "output_type": "display_data"
    },
    {
     "data": {
      "text/html": [
       "<pre style=\"white-space:pre;overflow-x:auto;line-height:normal;font-family:Menlo,'DejaVu Sans Mono',consolas,'Courier New',monospace\"><span style=\"color: #7fbfbf; text-decoration-color: #7fbfbf\">           </span><span style=\"color: #000080; text-decoration-color: #000080\">INFO    </span> R^<span style=\"color: #008080; text-decoration-color: #008080; font-weight: bold\">2</span> score is <span style=\"color: #008080; text-decoration-color: #008080; font-weight: bold\">0.9957137937585014</span> for the test set.            <a href=\"file://<ipython-input-10-947f7e075198>\" target=\"_blank\"><span style=\"color: #7f7f7f; text-decoration-color: #7f7f7f\">&lt;ipython-input-10-947f7e075198&gt;</span></a><span style=\"color: #7f7f7f; text-decoration-color: #7f7f7f\">:</span><a href=\"file://<ipython-input-10-947f7e075198>#33\" target=\"_blank\"><span style=\"color: #7f7f7f; text-decoration-color: #7f7f7f\">33</span></a>\n",
       "</pre>\n"
      ],
      "text/plain": [
       "\u001b[2;36m          \u001b[0m\u001b[2;36m \u001b[0m\u001b[34mINFO    \u001b[0m R^\u001b[1;36m2\u001b[0m score is \u001b[1;36m0.9957137937585014\u001b[0m for the test set.            \u001b]8;id=431474;file://<ipython-input-10-947f7e075198>\u001b\\\u001b[2m<ipython-input-10-947f7e075198>\u001b[0m\u001b]8;;\u001b\\\u001b[2m:\u001b[0m\u001b]8;id=398164;file://<ipython-input-10-947f7e075198>#33\u001b\\\u001b[2m33\u001b[0m\u001b]8;;\u001b\\\n"
      ]
     },
     "metadata": {},
     "output_type": "display_data"
    }
   ],
   "source": [
    "model = train_models(cfg)"
   ]
  },
  {
   "cell_type": "markdown",
   "metadata": {},
   "source": [
    "### Save Model"
   ]
  },
  {
   "cell_type": "code",
   "execution_count": 12,
   "metadata": {},
   "outputs": [
    {
     "data": {
      "text/html": [
       "<pre style=\"white-space:pre;overflow-x:auto;line-height:normal;font-family:Menlo,'DejaVu Sans Mono',consolas,'Courier New',monospace\"><span style=\"color: #7fbfbf; text-decoration-color: #7fbfbf\">           </span><span style=\"color: #000080; text-decoration-color: #000080\">INFO    </span> Scale transformations used, saving to                                      <a href=\"file:///home/alizaidi/bonsai/datadrivenmodel/gboost_models.py\" target=\"_blank\"><span style=\"color: #7f7f7f; text-decoration-color: #7f7f7f\">gboost_models.py</span></a><span style=\"color: #7f7f7f; text-decoration-color: #7f7f7f\">:</span><a href=\"file:///home/alizaidi/bonsai/datadrivenmodel/gboost_models.py#136\" target=\"_blank\"><span style=\"color: #7f7f7f; text-decoration-color: #7f7f7f\">136</span></a>\n",
       "<span style=\"color: #7fbfbf; text-decoration-color: #7fbfbf\">           </span>         models/xgboost_models/house_energy.pkl                                     <span style=\"color: #7f7f7f; text-decoration-color: #7f7f7f\">                    </span>\n",
       "</pre>\n"
      ],
      "text/plain": [
       "\u001b[2;36m          \u001b[0m\u001b[2;36m \u001b[0m\u001b[34mINFO    \u001b[0m Scale transformations used, saving to                                      \u001b]8;id=380673;file:///home/alizaidi/bonsai/datadrivenmodel/gboost_models.py\u001b\\\u001b[2mgboost_models.py\u001b[0m\u001b]8;;\u001b\\\u001b[2m:\u001b[0m\u001b]8;id=180493;file:///home/alizaidi/bonsai/datadrivenmodel/gboost_models.py#136\u001b\\\u001b[2m136\u001b[0m\u001b]8;;\u001b\\\n",
       "\u001b[2;36m           \u001b[0m         models/xgboost_models/house_energy.pkl                                     \u001b[2m                    \u001b[0m\n"
      ]
     },
     "metadata": {},
     "output_type": "display_data"
    }
   ],
   "source": [
    "model.save_model(filename=cfg[\"model\"][\"saver\"][\"filename\"])"
   ]
  },
  {
   "cell_type": "markdown",
   "metadata": {},
   "source": [
    "### Data Structure of Saved model"
   ]
  },
  {
   "cell_type": "code",
   "execution_count": 13,
   "metadata": {},
   "outputs": [
    {
     "data": {
      "text/html": [
       "<pre style=\"white-space:pre;overflow-x:auto;line-height:normal;font-family:Menlo,'DejaVu Sans Mono',consolas,'Courier New',monospace\"><span style=\"color: #7fbfbf; text-decoration-color: #7fbfbf\">           </span><span style=\"color: #000080; text-decoration-color: #000080\">INFO    </span> Input_cols:  <span style=\"font-weight: bold\">[</span><span style=\"color: #008000; text-decoration-color: #008000\">'cart_position'</span>, <span style=\"color: #008000; text-decoration-color: #008000\">'cart_velocity'</span>, <span style=\"color: #008000; text-decoration-color: #008000\">'pole_angle'</span>, <a href=\"file://<ipython-input-13-3da48a5edf65>\" target=\"_blank\"><span style=\"color: #7f7f7f; text-decoration-color: #7f7f7f\">&lt;ipython-input-13-3da48a5edf65&gt;</span></a><span style=\"color: #7f7f7f; text-decoration-color: #7f7f7f\">:</span><a href=\"file://<ipython-input-13-3da48a5edf65>#1\" target=\"_blank\"><span style=\"color: #7f7f7f; text-decoration-color: #7f7f7f\">1</span></a>\n",
       "<span style=\"color: #7fbfbf; text-decoration-color: #7fbfbf\">           </span>         <span style=\"color: #008000; text-decoration-color: #008000\">'pole_angular_velocity'</span>, <span style=\"color: #008000; text-decoration-color: #008000\">'pole_length'</span>, <span style=\"color: #008000; text-decoration-color: #008000\">'pole_mass'</span>,          <span style=\"color: #7f7f7f; text-decoration-color: #7f7f7f\">                                 </span>\n",
       "<span style=\"color: #7fbfbf; text-decoration-color: #7fbfbf\">           </span>         <span style=\"color: #008000; text-decoration-color: #008000\">'cart_mass'</span>, <span style=\"color: #008000; text-decoration-color: #008000\">'command'</span><span style=\"font-weight: bold\">]</span>                                       <span style=\"color: #7f7f7f; text-decoration-color: #7f7f7f\">                                 </span>\n",
       "</pre>\n"
      ],
      "text/plain": [
       "\u001b[2;36m          \u001b[0m\u001b[2;36m \u001b[0m\u001b[34mINFO    \u001b[0m Input_cols:  \u001b[1m[\u001b[0m\u001b[32m'cart_position'\u001b[0m, \u001b[32m'cart_velocity'\u001b[0m, \u001b[32m'pole_angle'\u001b[0m, \u001b]8;id=48060;file://<ipython-input-13-3da48a5edf65>\u001b\\\u001b[2m<ipython-input-13-3da48a5edf65>\u001b[0m\u001b]8;;\u001b\\\u001b[2m:\u001b[0m\u001b]8;id=110760;file://<ipython-input-13-3da48a5edf65>#1\u001b\\\u001b[2m1\u001b[0m\u001b]8;;\u001b\\\n",
       "\u001b[2;36m           \u001b[0m         \u001b[32m'pole_angular_velocity'\u001b[0m, \u001b[32m'pole_length'\u001b[0m, \u001b[32m'pole_mass'\u001b[0m,          \u001b[2m                                 \u001b[0m\n",
       "\u001b[2;36m           \u001b[0m         \u001b[32m'cart_mass'\u001b[0m, \u001b[32m'command'\u001b[0m\u001b[1m]\u001b[0m                                       \u001b[2m                                 \u001b[0m\n"
      ]
     },
     "metadata": {},
     "output_type": "display_data"
    },
    {
     "data": {
      "text/html": [
       "<pre style=\"white-space:pre;overflow-x:auto;line-height:normal;font-family:Menlo,'DejaVu Sans Mono',consolas,'Courier New',monospace\"><span style=\"color: #7fbfbf; text-decoration-color: #7fbfbf\">           </span><span style=\"color: #000080; text-decoration-color: #000080\">INFO    </span> Output_cols: <span style=\"font-weight: bold\">[</span><span style=\"color: #008000; text-decoration-color: #008000\">'cart_position'</span>, <span style=\"color: #008000; text-decoration-color: #008000\">'cart_velocity'</span>, <span style=\"color: #008000; text-decoration-color: #008000\">'pole_angle'</span>, <a href=\"file://<ipython-input-13-3da48a5edf65>\" target=\"_blank\"><span style=\"color: #7f7f7f; text-decoration-color: #7f7f7f\">&lt;ipython-input-13-3da48a5edf65&gt;</span></a><span style=\"color: #7f7f7f; text-decoration-color: #7f7f7f\">:</span><a href=\"file://<ipython-input-13-3da48a5edf65>#2\" target=\"_blank\"><span style=\"color: #7f7f7f; text-decoration-color: #7f7f7f\">2</span></a>\n",
       "<span style=\"color: #7fbfbf; text-decoration-color: #7fbfbf\">           </span>         <span style=\"color: #008000; text-decoration-color: #008000\">'pole_angular_velocity'</span><span style=\"font-weight: bold\">]</span>                                      <span style=\"color: #7f7f7f; text-decoration-color: #7f7f7f\">                                 </span>\n",
       "</pre>\n"
      ],
      "text/plain": [
       "\u001b[2;36m          \u001b[0m\u001b[2;36m \u001b[0m\u001b[34mINFO    \u001b[0m Output_cols: \u001b[1m[\u001b[0m\u001b[32m'cart_position'\u001b[0m, \u001b[32m'cart_velocity'\u001b[0m, \u001b[32m'pole_angle'\u001b[0m, \u001b]8;id=441884;file://<ipython-input-13-3da48a5edf65>\u001b\\\u001b[2m<ipython-input-13-3da48a5edf65>\u001b[0m\u001b]8;;\u001b\\\u001b[2m:\u001b[0m\u001b]8;id=709320;file://<ipython-input-13-3da48a5edf65>#2\u001b\\\u001b[2m2\u001b[0m\u001b]8;;\u001b\\\n",
       "\u001b[2;36m           \u001b[0m         \u001b[32m'pole_angular_velocity'\u001b[0m\u001b[1m]\u001b[0m                                      \u001b[2m                                 \u001b[0m\n"
      ]
     },
     "metadata": {},
     "output_type": "display_data"
    }
   ],
   "source": [
    "logger.info(f\"Input_cols:  {model.features}\")\n",
    "logger.info(f\"Output_cols: {model.labels}\")"
   ]
  },
  {
   "cell_type": "markdown",
   "metadata": {},
   "source": [
    "## 4. Model Evaluations\n",
    "\n",
    "We provide three methods for evaluating the errors of our trained models:\n",
    "\n",
    "1. Model predictive error: using a specified metric (such as R^2 or RMSE) and a test set, we evaluate the metric on the test set.\n",
    "2. Visualization of per-iteration predictions on a test set.\n",
    "3. Visualization of sequential predictions on a test set. Sequential prediction refers to feeding the predicted output back into the input over a full episode."
   ]
  },
  {
   "cell_type": "markdown",
   "metadata": {},
   "source": [
    "### 4.1. Per-Iteration Predictions"
   ]
  },
  {
   "cell_type": "code",
   "execution_count": 14,
   "metadata": {},
   "outputs": [],
   "source": [
    "# Use the the input columns at time t to predict the output column(s) at time t+1\n",
    "y_preds = model.predict(X_test)"
   ]
  },
  {
   "cell_type": "code",
   "execution_count": 15,
   "metadata": {},
   "outputs": [
    {
     "name": "stderr",
     "output_type": "stream",
     "text": [
      "/anaconda/envs/ddm/lib/python3.7/site-packages/plotly/matplotlylib/renderer.py:613: UserWarning:\n",
      "\n",
      "I found a path object that I don't think is part of a bar chart. Ignoring.\n",
      "\n",
      "/anaconda/envs/ddm/lib/python3.7/site-packages/plotly/matplotlylib/renderer.py:613: UserWarning:\n",
      "\n",
      "I found a path object that I don't think is part of a bar chart. Ignoring.\n",
      "\n",
      "/anaconda/envs/ddm/lib/python3.7/site-packages/plotly/matplotlylib/renderer.py:613: UserWarning:\n",
      "\n",
      "I found a path object that I don't think is part of a bar chart. Ignoring.\n",
      "\n",
      "/anaconda/envs/ddm/lib/python3.7/site-packages/plotly/matplotlylib/renderer.py:613: UserWarning:\n",
      "\n",
      "I found a path object that I don't think is part of a bar chart. Ignoring.\n",
      "\n"
     ]
    }
   ],
   "source": [
    "# Plot all prediction results\n",
    "label_count = np.shape(y_preds)[1]\n",
    "for i in range(label_count):\n",
    "    fig = plt.figure(figsize=(20,5))\n",
    "    plt.plot(y_test[:,i], \"green\")\n",
    "    plt.plot(y_preds[:,i], \"brown\")\n",
    "    plt.title(f\"Per-iteration predictions: {model.labels[i]}\")\n",
    "    plt.xlabel(\"Iteration\")\n",
    "    plt.legend([\"Truth\", \"Prediction\"])\n",
    "    if WANDB_LOGGER:\n",
    "        wandb.log({f\"Per-iteration predictions: {model.labels[i]}\": plt})\n"
   ]
  },
  {
   "cell_type": "code",
   "execution_count": 16,
   "metadata": {},
   "outputs": [
    {
     "data": {
      "image/png": "[encoded data removed]",
      "text/plain": [
       "<Figure size 1440x360 with 1 Axes>"
      ]
     },
     "metadata": {
      "needs_background": "light"
     },
     "output_type": "display_data"
    },
    {
     "data": {
      "image/png": "[encoded data removed]",
      "text/plain": [
       "<Figure size 1440x360 with 1 Axes>"
      ]
     },
     "metadata": {
      "needs_background": "light"
     },
     "output_type": "display_data"
    }
   ],
   "source": [
    "# Zoom in on a specific section\n",
    "iteration_start = -50\n",
    "iteration_stop = -1\n",
    "\n",
    "# Define which input column is the action\n",
    "action_col = cfg[\"simulator\"][\"actions\"][0]\n",
    "\n",
    "# Plot action changes -- zoomed in\n",
    "fig = plt.figure(figsize=(20,5))\n",
    "action_idx = model.features.index(action_col)\n",
    "plt.title(f\"Plot [{iteration_start}:{iteration_stop}] actions (ensure action is not stale)\")\n",
    "plt.plot(X_test[iteration_start:iteration_stop,action_idx])\n",
    "plt.grid()\n",
    "    \n",
    "# Plot state (model output) changes -- zoomed in\n",
    "fig = plt.figure(figsize=(20,5))\n",
    "label_idx = 0\n",
    "plt.title(f\"Plot [{iteration_start}:{iteration_stop}] state preds: {model.labels[label_idx]}\")\n",
    "plt.plot(y_test[iteration_start:iteration_stop,label_idx], \"green\")\n",
    "plt.plot(y_preds[iteration_start:iteration_stop,label_idx], \"brown\", linestyle='--')\n",
    "plt.xlabel(\"Iteration\")\n",
    "plt.legend([\"Truth\", \"Prediction\"])\n",
    "plt.grid()"
   ]
  },
  {
   "cell_type": "markdown",
   "metadata": {},
   "source": [
    "### 4.2. Overall Prediction Score"
   ]
  },
  {
   "cell_type": "code",
   "execution_count": 17,
   "metadata": {},
   "outputs": [],
   "source": [
    "# Select your scoring method: r2_score, root_mean_squared_error, or mean_squared_error\n",
    "scoring_method = available_metrics[\"r2_score\"]"
   ]
  },
  {
   "cell_type": "code",
   "execution_count": 18,
   "metadata": {},
   "outputs": [],
   "source": [
    "# Evaluate the model using the test set\n",
    "per_iteration_eval_table = model.evaluate(scoring_method, y_preds, y_test, marginal=True)"
   ]
  },
  {
   "cell_type": "code",
   "execution_count": 19,
   "metadata": {},
   "outputs": [
    {
     "data": {
      "text/html": [
       "<div>\n",
       "<style scoped>\n",
       "    .dataframe tbody tr th:only-of-type {\n",
       "        vertical-align: middle;\n",
       "    }\n",
       "\n",
       "    .dataframe tbody tr th {\n",
       "        vertical-align: top;\n",
       "    }\n",
       "\n",
       "    .dataframe thead th {\n",
       "        text-align: right;\n",
       "    }\n",
       "</style>\n",
       "<table border=\"1\" class=\"dataframe\">\n",
       "  <thead>\n",
       "    <tr style=\"text-align: right;\">\n",
       "      <th></th>\n",
       "      <th>var</th>\n",
       "      <th>score</th>\n",
       "    </tr>\n",
       "  </thead>\n",
       "  <tbody>\n",
       "    <tr>\n",
       "      <th>0</th>\n",
       "      <td>cart_position</td>\n",
       "      <td>0.994631</td>\n",
       "    </tr>\n",
       "    <tr>\n",
       "      <th>1</th>\n",
       "      <td>cart_velocity</td>\n",
       "      <td>0.995381</td>\n",
       "    </tr>\n",
       "    <tr>\n",
       "      <th>2</th>\n",
       "      <td>pole_angle</td>\n",
       "      <td>0.996522</td>\n",
       "    </tr>\n",
       "    <tr>\n",
       "      <th>3</th>\n",
       "      <td>pole_angular_velocity</td>\n",
       "      <td>0.996321</td>\n",
       "    </tr>\n",
       "  </tbody>\n",
       "</table>\n",
       "</div>"
      ],
      "text/plain": [
       "                     var     score\n",
       "0          cart_position  0.994631\n",
       "1          cart_velocity  0.995381\n",
       "2             pole_angle  0.996522\n",
       "3  pole_angular_velocity  0.996321"
      ]
     },
     "execution_count": 19,
     "metadata": {},
     "output_type": "execute_result"
    }
   ],
   "source": [
    "if (per_iteration_eval_table[\"score\"] < 0.7).any():\n",
    "    logger.warn(\"Per-iteration assessment R^2 is low. Please review your model.\")\n",
    "\n",
    "per_iteration_eval_table"
   ]
  },
  {
   "cell_type": "markdown",
   "metadata": {},
   "source": [
    "### 4.3. Sequential Predictions"
   ]
  },
  {
   "cell_type": "code",
   "execution_count": 20,
   "metadata": {},
   "outputs": [],
   "source": [
    "# in order to run sequential predictions we need to segment\n",
    "# the data by episodes so we can do multi-step predictions within each\n",
    "# episode\n",
    "X_test_grouped, y_test_grouped = model.get_test_set(grouped_per_episode=True)"
   ]
  },
  {
   "cell_type": "code",
   "execution_count": 21,
   "metadata": {},
   "outputs": [
    {
     "name": "stderr",
     "output_type": "stream",
     "text": [
      "/anaconda/envs/ddm/lib/python3.7/site-packages/numpy/core/fromnumeric.py:1970: VisibleDeprecationWarning:\n",
      "\n",
      "Creating an ndarray from ragged nested sequences (which is a list-or-tuple of lists-or-tuples-or ndarrays with different lengths or shapes) is deprecated. If you meant to do this, you must specify 'dtype=object' when creating the ndarray.\n",
      "\n"
     ]
    },
    {
     "name": "stdout",
     "output_type": "stream",
     "text": [
      "X (predict_sequentially) ---> (72,)\n"
     ]
    }
   ],
   "source": [
    "# Feed the predicted output back into the input for full episodes.\n",
    "preds_sequentially_grouped, labels_sequentially_grouped = model.predict_sequentially(X_test_grouped, y_test_grouped, return_flattened=False)"
   ]
  },
  {
   "cell_type": "code",
   "execution_count": 22,
   "metadata": {},
   "outputs": [
    {
     "name": "stderr",
     "output_type": "stream",
     "text": [
      "/anaconda/envs/ddm/lib/python3.7/site-packages/plotly/matplotlylib/renderer.py:613: UserWarning:\n",
      "\n",
      "I found a path object that I don't think is part of a bar chart. Ignoring.\n",
      "\n",
      "/anaconda/envs/ddm/lib/python3.7/site-packages/plotly/matplotlylib/renderer.py:613: UserWarning:\n",
      "\n",
      "I found a path object that I don't think is part of a bar chart. Ignoring.\n",
      "\n",
      "/anaconda/envs/ddm/lib/python3.7/site-packages/plotly/matplotlylib/renderer.py:613: UserWarning:\n",
      "\n",
      "I found a path object that I don't think is part of a bar chart. Ignoring.\n",
      "\n",
      "/anaconda/envs/ddm/lib/python3.7/site-packages/plotly/matplotlylib/renderer.py:613: UserWarning:\n",
      "\n",
      "I found a path object that I don't think is part of a bar chart. Ignoring.\n",
      "\n"
     ]
    }
   ],
   "source": [
    "# Plot sequential predictions for first test episode. \n",
    "# Do you notice any error propagation (i.e., predictions deviate more from truth over time)?\n",
    "label_count = np.shape(preds_sequentially_grouped[0])[1]\n",
    "for i in range(label_count):\n",
    "    fig = plt.figure(figsize=(20,5))\n",
    "    plt.plot(y_test_grouped[0][:,i], \"green\")\n",
    "    plt.plot(preds_sequentially_grouped[0][:,i], \"brown\")\n",
    "    plt.title(f\"Sequential predictions: {model.labels[i]}\")\n",
    "    plt.xlabel(\"Iteration\")\n",
    "    plt.legend([\"Truth\", \"Prediction\"])\n",
    "    if WANDB_LOGGER:\n",
    "        wandb.log({f\"Sequential multi-step predictions: {model.labels[i]}\": plt})"
   ]
  },
  {
   "cell_type": "code",
   "execution_count": 23,
   "metadata": {},
   "outputs": [],
   "source": [
    "# Evaluate the model sequentially using the test set and output a scoring metric.\n",
    "sequential_eval_table = model.evaluate(scoring_method, np.concatenate(preds_sequentially_grouped), np.concatenate(y_test_grouped), marginal=True)"
   ]
  },
  {
   "cell_type": "code",
   "execution_count": 24,
   "metadata": {},
   "outputs": [
    {
     "name": "stderr",
     "output_type": "stream",
     "text": [
      "/anaconda/envs/ddm/lib/python3.7/site-packages/ipykernel_launcher.py:2: DeprecationWarning:\n",
      "\n",
      "The 'warn' method is deprecated, use 'warning' instead\n",
      "\n"
     ]
    },
    {
     "data": {
      "text/html": [
       "<pre style=\"white-space:pre;overflow-x:auto;line-height:normal;font-family:Menlo,'DejaVu Sans Mono',consolas,'Courier New',monospace\"><span style=\"color: #7fbfbf; text-decoration-color: #7fbfbf\">[18:26:46] </span><span style=\"color: #800000; text-decoration-color: #800000\">WARNING </span> Sequential assessment R^<span style=\"color: #008080; text-decoration-color: #008080; font-weight: bold\">2</span> is low. Please review your model.   <a href=\"file://<ipython-input-24-4ee6cb7325d7>\" target=\"_blank\"><span style=\"color: #7f7f7f; text-decoration-color: #7f7f7f\">&lt;ipython-input-24-4ee6cb7325d7&gt;</span></a><span style=\"color: #7f7f7f; text-decoration-color: #7f7f7f\">:</span><a href=\"file://<ipython-input-24-4ee6cb7325d7>#2\" target=\"_blank\"><span style=\"color: #7f7f7f; text-decoration-color: #7f7f7f\">2</span></a>\n",
       "</pre>\n"
      ],
      "text/plain": [
       "\u001b[2;36m[18:26:46]\u001b[0m\u001b[2;36m \u001b[0m\u001b[31mWARNING \u001b[0m Sequential assessment R^\u001b[1;36m2\u001b[0m is low. Please review your model.   \u001b]8;id=583660;file://<ipython-input-24-4ee6cb7325d7>\u001b\\\u001b[2m<ipython-input-24-4ee6cb7325d7>\u001b[0m\u001b]8;;\u001b\\\u001b[2m:\u001b[0m\u001b]8;id=538712;file://<ipython-input-24-4ee6cb7325d7>#2\u001b\\\u001b[2m2\u001b[0m\u001b]8;;\u001b\\\n"
      ]
     },
     "metadata": {},
     "output_type": "display_data"
    },
    {
     "data": {
      "text/html": [
       "<div>\n",
       "<style scoped>\n",
       "    .dataframe tbody tr th:only-of-type {\n",
       "        vertical-align: middle;\n",
       "    }\n",
       "\n",
       "    .dataframe tbody tr th {\n",
       "        vertical-align: top;\n",
       "    }\n",
       "\n",
       "    .dataframe thead th {\n",
       "        text-align: right;\n",
       "    }\n",
       "</style>\n",
       "<table border=\"1\" class=\"dataframe\">\n",
       "  <thead>\n",
       "    <tr style=\"text-align: right;\">\n",
       "      <th></th>\n",
       "      <th>var</th>\n",
       "      <th>score</th>\n",
       "    </tr>\n",
       "  </thead>\n",
       "  <tbody>\n",
       "    <tr>\n",
       "      <th>0</th>\n",
       "      <td>cart_position</td>\n",
       "      <td>-0.018077</td>\n",
       "    </tr>\n",
       "    <tr>\n",
       "      <th>1</th>\n",
       "      <td>cart_velocity</td>\n",
       "      <td>-0.149063</td>\n",
       "    </tr>\n",
       "    <tr>\n",
       "      <th>2</th>\n",
       "      <td>pole_angle</td>\n",
       "      <td>-2.102725</td>\n",
       "    </tr>\n",
       "    <tr>\n",
       "      <th>3</th>\n",
       "      <td>pole_angular_velocity</td>\n",
       "      <td>0.755125</td>\n",
       "    </tr>\n",
       "  </tbody>\n",
       "</table>\n",
       "</div>"
      ],
      "text/plain": [
       "                     var     score\n",
       "0          cart_position -0.018077\n",
       "1          cart_velocity -0.149063\n",
       "2             pole_angle -2.102725\n",
       "3  pole_angular_velocity  0.755125"
      ]
     },
     "execution_count": 24,
     "metadata": {},
     "output_type": "execute_result"
    }
   ],
   "source": [
    "if (sequential_eval_table[\"score\"] < 0.7).any():\n",
    "    logger.warn(\"Sequential assessment R^2 is low. Please review your model.\")\n",
    "\n",
    "sequential_eval_table"
   ]
  },
  {
   "cell_type": "code",
   "execution_count": 25,
   "metadata": {},
   "outputs": [],
   "source": [
    "if WANDB_LOGGER:\n",
    "    wandb.log(sequential_eval_table.set_index(\"var\")[\"score\"].to_dict())"
   ]
  },
  {
   "cell_type": "markdown",
   "metadata": {},
   "source": [
    "## 5. Comparing Model Evaluations\n",
    "\n",
    "If you want to compare various models, you can use the following section to save them in between runs.\n",
    "\n",
    "1. Select appropriate \"model_name\" tag, and run this section\n",
    "2. Change config through \"config.yaml\" (located at 'conf' folder)\n",
    "3. Rerun from Model Build (Steps 1-4), until this section\n",
    "4. Define a new value for \"model_name\" tag, and run this section again"
   ]
  },
  {
   "cell_type": "code",
   "execution_count": 26,
   "metadata": {},
   "outputs": [],
   "source": [
    "# select model name, and feats to extract\n",
    "model_name = \"svr\""
   ]
  },
  {
   "cell_type": "code",
   "execution_count": 27,
   "metadata": {},
   "outputs": [],
   "source": [
    "# per-iteration score\n",
    "model_per_it_scores = copy.deepcopy(per_iteration_eval_table)"
   ]
  },
  {
   "cell_type": "code",
   "execution_count": 28,
   "metadata": {},
   "outputs": [],
   "source": [
    "# initialize models dictionary if it doesn't exist already\n",
    "if 'models_dict' not in locals():\n",
    "    models_dict = dict()"
   ]
  },
  {
   "cell_type": "code",
   "execution_count": 29,
   "metadata": {},
   "outputs": [],
   "source": [
    "# append tables to model using selected model name as key\n",
    "models_dict[model_name] = (model_per_it_scores,)"
   ]
  },
  {
   "cell_type": "code",
   "execution_count": 30,
   "metadata": {},
   "outputs": [],
   "source": [
    "# redefine column names if needed\n",
    "for model_name, score_tables in models_dict.items():\n",
    "    for score_table in score_tables:\n",
    "        for col_name in score_table.columns:\n",
    "            if \"score\" in col_name and model_name not in col_name:\n",
    "                score_table.rename(columns = {col_name:model_name+\"_\"+col_name}, inplace = True)"
   ]
  },
  {
   "cell_type": "code",
   "execution_count": 31,
   "metadata": {},
   "outputs": [
    {
     "data": {
      "text/html": [
       "<div>\n",
       "<style scoped>\n",
       "    .dataframe tbody tr th:only-of-type {\n",
       "        vertical-align: middle;\n",
       "    }\n",
       "\n",
       "    .dataframe tbody tr th {\n",
       "        vertical-align: top;\n",
       "    }\n",
       "\n",
       "    .dataframe thead th {\n",
       "        text-align: right;\n",
       "    }\n",
       "</style>\n",
       "<table border=\"1\" class=\"dataframe\">\n",
       "  <thead>\n",
       "    <tr style=\"text-align: right;\">\n",
       "      <th></th>\n",
       "      <th>var</th>\n",
       "      <th>svr_score</th>\n",
       "    </tr>\n",
       "  </thead>\n",
       "  <tbody>\n",
       "    <tr>\n",
       "      <th>0</th>\n",
       "      <td>cart_position</td>\n",
       "      <td>0.994631</td>\n",
       "    </tr>\n",
       "    <tr>\n",
       "      <th>1</th>\n",
       "      <td>cart_velocity</td>\n",
       "      <td>0.995381</td>\n",
       "    </tr>\n",
       "    <tr>\n",
       "      <th>2</th>\n",
       "      <td>pole_angle</td>\n",
       "      <td>0.996522</td>\n",
       "    </tr>\n",
       "    <tr>\n",
       "      <th>3</th>\n",
       "      <td>pole_angular_velocity</td>\n",
       "      <td>0.996321</td>\n",
       "    </tr>\n",
       "  </tbody>\n",
       "</table>\n",
       "</div>"
      ],
      "text/plain": [
       "                     var  svr_score\n",
       "0          cart_position   0.994631\n",
       "1          cart_velocity   0.995381\n",
       "2             pole_angle   0.996522\n",
       "3  pole_angular_velocity   0.996321"
      ]
     },
     "execution_count": 31,
     "metadata": {},
     "output_type": "execute_result"
    }
   ],
   "source": [
    "# concatenate across all models\n",
    "all_scores = None\n",
    "for model_name, score_tables in models_dict.items():\n",
    "    for score_table in score_tables:\n",
    "        if all_scores is None:\n",
    "            all_scores = score_table\n",
    "        else:\n",
    "            all_scores = all_scores.merge(score_table,how='outer')\n",
    "\n",
    "all_scores"
   ]
  }
 ],
 "metadata": {
  "kernelspec": {
   "display_name": "Python [conda env:ddm]",
   "language": "python",
   "name": "conda-env-ddm-py"
  },
  "language_info": {
   "codemirror_mode": {
    "name": "ipython",
    "version": 3
   },
   "file_extension": ".py",
   "mimetype": "text/x-python",
   "name": "python",
   "nbconvert_exporter": "python",
   "pygments_lexer": "ipython3",
   "version": "3.7.7"
  },
  "vscode": {
   "interpreter": {
    "hash": "25a3bdd4d2141493699beac8cdfff38b48374c071a94c0e3853a92417aa4ef67"
   }
  }
 },
 "nbformat": 4,
 "nbformat_minor": 5
}
